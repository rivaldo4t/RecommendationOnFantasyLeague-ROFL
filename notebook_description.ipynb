{
 "cells": [
  {
   "cell_type": "markdown",
   "metadata": {},
   "source": [
    "<h1><center>Recommendation On Fantasy League - ROFL</center></h1>"
   ]
  },
  {
   "cell_type": "markdown",
   "metadata": {},
   "source": [
    "<img src=\"images/fantasy-premier-league-show.png\">"
   ]
  },
  {
   "cell_type": "markdown",
   "metadata": {},
   "source": [
    "# Project Video:\n",
    "https://www.youtube.com/watch?v=qsN9z9H1sG0&feature=youtu.be\n",
    "\n",
    "# Project Code Repository:\n",
    "https://www.youtube.com/watch?v=qsN9z9H1sG0&feature=youtu.be\n",
    "\n",
    "# Project Demo:\n",
    "https://goo.gl/Ddz79Y"
   ]
  },
  {
   "cell_type": "markdown",
   "metadata": {},
   "source": [
    "# Introduction\n",
    "\n",
    "\n",
    "Soccer is one of the most followed games in the world, and **English Premier League(EPL)** is highest earning, most competitive and most watched sports league. As soccer lovers, this experience extends beyond viewing the game and participating in Fantasy Premier Leagues and even betting, which may or may not include monetary transactions.\n",
    "The **popularity of FPL** can be judged from the fact that **more than 4 million people in Britain** itself play the league annually.\n",
    "\n",
    "**Fantasy football is a game in which participants assemble an imaginary team of real life footballers** and score points based on those players' actual statistical performance or their perceived contribution on the field of play. The fantasy football league ask participants to select **15 players within a price budget, with the combination of 2 goalkeepers, 5 defenders, 5 midfielders and 3 forwards**. The game is run over 38 gameweeks, where each gameweek comprises of 10 matches of 20 teams. The aim of the game is to score as many points as possible. The scoring is done based on many factors, like, player appearance, goals scored, assists, clean sheets, penalties, wins. The scoring is adversely affected if goals are scored against the team, yellow or red card received, penalty misses, own goals and loss.\n",
    "\n",
    "<img src=\"images/EPL-1.jpg\"> \n",
    "\n",
    "## Motivation\n",
    "**As soccer fans and budding data scientists** we plan to tackle the problem of selecting players in an optimal and unbiased way. **Most people, around the world, place bets based on emotions, expert advice or player popularity**. At best, they consider past performances or statistics to find the optimal bet. We plan to build a recommender engine that ranks the players of different categories(Forward, Midfielder, Defender, Goalkeeper) and lets the user build his own team.\n",
    "\n",
    "Our **motivation of this project is to help soccer fans make informed decisions**. Since our algorithms has no biases towards players, it helps bring relatively unknown players who are performing very well into limelight. This is due to the fact that we take into consideration unique features. "
   ]
  },
  {
   "cell_type": "markdown",
   "metadata": {},
   "source": [
    "<img src=\"images/img1.jpg\"> "
   ]
  },
  {
   "cell_type": "markdown",
   "metadata": {},
   "source": [
    "# Related work\n",
    "\n",
    "Current tools provide specific functionalities like customized transfer recommendations, points, projections, etc. using past statistics but most of them require a subscription.\n",
    "\n",
    "Related work include **Fantasy Football Fix(https://www.fantasyfootballfix.com/)**, which has features like predicting which players will change in value and when, showing player points projects based on past statistics. The work suffers from the drawback that the onus is on user to create his own team and try out different team combinations based on points predicted and optimizations suggested. \n",
    "**Fantasy Football Geek(http://www.fantasyfootballgeek.co.uk/) and Scout(https://www.fantasyfootballscout.co.uk/)** post news, tips and tricks, player rankings, game analysis, etc based on expert opinions but do not provide actual recommendations that our project aims to do.\n",
    "\n",
    "**Our project provides recommendations based on players data from recent and past performances**. We provide recommendations on different categories, like top 10 attackers, defenders, midfielders and goalkeepers, which will help the user to build his own team. Unlike other subscription based solutions, we aim to make our project free for all soccer fans. By providing recommendations in each category, we provide a simplistic and easy to use solution for everyone. These differences certainly prove to be beneficial to users. "
   ]
  },
  {
   "cell_type": "markdown",
   "metadata": {},
   "source": [
    "<table><tr><td><img src='images/fantasyfix.png'></td><td><img src='images/fantasyfix2.png'></td></tr></table>"
   ]
  },
  {
   "cell_type": "markdown",
   "metadata": {},
   "source": [
    "# Proposed solution\n",
    "\n",
    "<img src=\"images/flow.png\"> "
   ]
  },
  {
   "cell_type": "markdown",
   "metadata": {},
   "source": [
    "## Data Preprocessing\n"
   ]
  },
  {
   "cell_type": "markdown",
   "metadata": {},
   "source": [
    "### Data collection, parsing, aggregation\n",
    "1. Dataset for season 2016-17 has been obtained from https://github.com/vaastav/Fantasy-Premier-League/tree/master/data/2016-17. Current Season(2017-18) data is scraped from Fantasy Premier League website till 19 gameweeks. Dataset includes both explicit and implicit features for each player. Explicit features are assists, goals scored, saves, passes completed, etc while implicit features cover player's bonus points, influence, creativity and threats. The dataset also covers player's past seasons history. Dataset for past season(2016-17) and (2017-18) contains gameweek wise scores and features for player.\n",
    "2. Player position and team data has been taken from FoxSports. \n",
    "3. Further, fixture table showing gameweek wise schedule of each match has been taken from Fantasy Premier League website.\n",
    "\n",
    "\n",
    "Data from all the above sources has been merged together"
   ]
  },
  {
   "cell_type": "markdown",
   "metadata": {},
   "source": [
    "### Create X_Train and X_Test Data"
   ]
  },
  {
   "cell_type": "markdown",
   "metadata": {},
   "source": [
    "1. First, data is splitted into training and testing. The model is trained on data from 2016-17 season. The data for each player is averaged for gameweek, such that each feature is averaged over all the gameweeks. \n",
    "\n",
    "2. In case of transfers, only those gameweeks are taken into consideration from which the player has entered the season. We test the data on 2017-18 season for each gameweek starting from gameweek 6. \n",
    "\n",
    "3. Our test data for a gameweek is the average of last five gameweeks, for example, for gameweek 6, the test data features are average of features of last 5 games. The player's past history feature is taken as average points over the seasons he has played prior to the season the model is trained/tested on.\n",
    "\n",
    "4. The data is divided into 4 categories, for each position, namely, Goalkeeper, Forward, Defender, and Midfielder."
   ]
  },
  {
   "cell_type": "markdown",
   "metadata": {},
   "source": [
    "# Training model and Prediction"
   ]
  },
  {
   "cell_type": "markdown",
   "metadata": {},
   "source": [
    "### Current Trend\n",
    "1. For predicting player performance in the next gameweek, we look at his current trend. Player's current trend is defined as average performance over the last 5 games. So, for a gameweek, we take features as average of the features of his last 5 gameweeks. Next, we look at player's past performance over past seasons. Then, performance is evaluated both for implicit and explicit features and their combination.\n",
    "\n",
    "### Training Models\n",
    "2. We have tried various models to rank the players and predict their performance, namely Linear Regression, Bayesian Ridge Regression, SVR, and Ranking SVM. The regression models computes the total_points of the player and rank them in decreasing order of their scores in each category. Ranking SVM computes pairwise comparision of players, and for each combination of players, assigns a score of +1 or -1, depending upon who is better among the two. The final score is computed based on the number of wins for each player, and the score is sorted to obtain the top players.\n",
    "\n",
    "### Ranking of players\n",
    "3. The players are ranked in each category and top 10 players in each category are recommended to the users."
   ]
  },
  {
   "cell_type": "markdown",
   "metadata": {},
   "source": [
    "# Testing models for all positions:"
   ]
  },
  {
   "cell_type": "markdown",
   "metadata": {},
   "source": [
    "## Defining all features, explicit, implicit, and past history"
   ]
  },
  {
   "cell_type": "markdown",
   "metadata": {},
   "source": [
    "### Selecting Features\n",
    "Based upon game analysis and point score as given by Fantasy Premier League website, we came up with a set of features for each category of players. We divide our data into set of explicit, implicit and global history features.\n",
    "1. **Explicit Features** :\n",
    "These are features that can directly be calculated from the gameplay. These include bunch of positive and negative features for each player: \n",
    "    For **forwards**, features such as assists, goals_scored, tackled, missed penalties.\n",
    "    For **midfielders**, assists, big_chances_created, completed_passes, dribbles, goals_scored, key_passes\n",
    "    **Defender**: clean_sheets, clearances_blocks_interceptions, own_goals \n",
    "    **Goalkeeper**: Saves, clean_sheets.\n",
    "    Furthur, some features like minutes, fouls are taken for every position of players.\n",
    "\n",
    "2. **Implicit features**:\n",
    "These are subjective features that are calculated by Fantasy Premier League website. This include bonus points given to each player based on his performance. Also, features such as player influence, creativity and threat are some of implicit features\n",
    "\n",
    "3. Player **past history**:\n",
    "It is taken into account as global feature. This feature selects players based on past performances only."
   ]
  },
  {
   "cell_type": "markdown",
   "metadata": {},
   "source": [
    "# Evaluation and analysis \n",
    "1. **Results on different models**:\n",
    "We ran 4 models on all four positions to rank players for each gameweek. Four models are Linear Regression, Bayesian Ridge Regression, SVR and Ranking SVM. Ranking SVM outperformed all other methods(Regression, Bayesian Ridge, and SVR) showing that for ranking, pairwise comparison is always better and scoring based on regression models.\n",
    "\n",
    "2. **Evaluation metrics - precision**:\n",
    "We use precision for top 10 players. Our predicted top 10 players in each category is compared against the actual top 10 players for that gameweek.\n",
    "\n",
    "3. **Analysis**:\n",
    "We furthur analysed the effect of implicit, explicit and global factors on player performance prediction. We observed that player current trend is the most important feature in predicting performance for the next gameweek. Player past history is also important, and helps in increasing overall average precision. Implicit features such as ict_index may offer little advantage subject to player category.\n",
    "\n",
    "4. The performance of the features depends on different category(forward, midfielder, defender or goalkeeper)\n"
   ]
  },
  {
   "cell_type": "markdown",
   "metadata": {},
   "source": [
    "## Forward:\n",
    "<table><tr><td><img src='images/forward_models.png'></td><td><img src='images/forward_features.png'></td></tr></table>"
   ]
  },
  {
   "cell_type": "markdown",
   "metadata": {},
   "source": [
    "Observations:\n",
    "1. Ranking SVM outperforms all other methods, giving better precision for every gameweek.\n",
    "2. In the second graph, we observe that adding features like past history and implicit features increases the average precision implying that users using our tool are more likely to see the top players from our recommended list."
   ]
  },
  {
   "cell_type": "markdown",
   "metadata": {},
   "source": [
    "## Defender:\n",
    "\n",
    "<table><tr><td><img src='images/defender_models.png'></td><td><img src='images/defender_features.png'></td></tr></table>"
   ]
  },
  {
   "cell_type": "markdown",
   "metadata": {},
   "source": [
    "Observations:\n",
    "1. Ranking SVM outperforms all other methods.\n",
    "2. Here, for defenders, we see that adding past history does not offer any advantage as compare to explicit factors only as in some gameweeks the performance is better while in others, it is worse. Also, we tried implicit factors, but it furthur deteriorated the performance. However, adding past history does not lead to sharp increase or decrease in curves as seen in explicit only."
   ]
  },
  {
   "cell_type": "markdown",
   "metadata": {},
   "source": [
    "## Goalkeeper:\n",
    "\n",
    "<table><tr><td><img src='images/goalkeeper_models.png'></td><td><img src='images/goalkeeper_features.png'></td></tr></table>"
   ]
  },
  {
   "cell_type": "markdown",
   "metadata": {},
   "source": [
    "Observations:\n",
    "1. Ranking SVM outperforms all other methods.\n",
    "2. Here, for goalkeepers, we see that adding past history and implicit factors offers a good advantage as compared to explicit factors only as in some gameweeks the precision reaches 1 indicating that in that particular gameweek, all the top 10 players who performed well were from our list."
   ]
  },
  {
   "cell_type": "markdown",
   "metadata": {},
   "source": [
    "## Midfielder:\n",
    "\n",
    "<table><tr><td><img src='images/midfielder_models.png'></td><td><img src='images/midfielder_features.png'></td></tr></table>"
   ]
  },
  {
   "cell_type": "markdown",
   "metadata": {},
   "source": [
    "Observations:\n",
    "1. Ranking SVM outperforms all other methods.\n",
    "2. Here, for midfielders, we see that adding past history and implicit factors have varying effect depending upon gameweek. At some places, past history performs well while at others explicit or implicit."
   ]
  },
  {
   "cell_type": "markdown",
   "metadata": {},
   "source": [
    "\n",
    "<img src=\"images/resultsweek6.png\">"
   ]
  },
  {
   "cell_type": "markdown",
   "metadata": {},
   "source": [
    "# Team Formation\n"
   ]
  },
  {
   "cell_type": "markdown",
   "metadata": {},
   "source": [
    "We also provide team recommendation to user modelling the problem as a linear programming one. We give **2 goalkeepers, 5 midfielders, 5 defenders, and 3 forwards, picking a total of 15 players** for the gameweek asked by the user under a certain **budget, which is 1000** by default. \n",
    "\n",
    "Along with the above constraints, we take more constraints such as no more than 3 players can be from the same team. We use a **LPU solver** and put all the constraints as optimization equations. From all the equations, we recommend a team of 15 players as per the above combination to the user.\n",
    "\n",
    "Reference : http://www.philipkalinda.com/ds9.html"
   ]
  },
  {
   "cell_type": "markdown",
   "metadata": {},
   "source": [
    "### Team formed for gameweek 6 after solving the linear optimization problem - \n",
    "\n",
    "<img src='images/team.jpg'>"
   ]
  },
  {
   "cell_type": "markdown",
   "metadata": {},
   "source": [
    "## Key Takeaways\n",
    "\n",
    "1. **Ranking svm performed better** as compared to regression and svr it computes pairwise performance.\n",
    "2. **Player past performance** does not give sharp increase or decrease in precision values, leading to **better average values**. If a good player is not performing in recent games, still due to his past performance, he will not lose all points.\n",
    "3. **Adding implicit factors** increases performance for forwards and goalkeepers, not for defenders and midfielders though."
   ]
  },
  {
   "cell_type": "markdown",
   "metadata": {},
   "source": [
    "# Conclusions\n",
    "\n",
    "## Challenges:\n",
    "\n",
    "1. Fantasy premier league website only provides the current data of the players. Extracting the data for past seasons was quite challenging. Any single source of data didn't suffice, due to which we had to extract data from multiple sources providing information of different Features for players like Teams and Positions.\n",
    "2. Understanding and tuning features for each category of players, for example, for forward position we considered features like goals scored and assists as most important features. Features like ict index, which is a combination of player's influence, creativity and threat also play a major role in player ranking.\n",
    "\n",
    "## Future Work\n",
    "In future, our model can be extended to provide complete manager module, which can recommend optimal players in case of:\n",
    "1. Substitutions - In the game which three players can be substituted to optimize the team\n",
    "2. Injuries - In case of injuries, who is the most \"similar\" player to replace the injured player\n",
    "3. Transfers - which player(s) from other teams can be bought to improve the team performance in the future season\n",
    "\n",
    "Also, in future we plan to use neural models and deep learning to learn hidden features and analyse their effects on precision of results.\n",
    "\n",
    "\n",
    "## Open issues:\n",
    "1. Gameweek wise dataset is only available for 2016-17 season, for better results more data is required.\n",
    "\n",
    "2. Since we are predicting the player features to be the average of his last 5 games, if a player is not even participating even in the gameweek, our model still gives points to the player assuming the player will appear in the game, leading to inaccurate results. Somehow, the model needs to know whether the player would play or not in the next gameweek.\n"
   ]
  },
  {
   "cell_type": "markdown",
   "metadata": {},
   "source": [
    "# Ethical Issues\n",
    "\n",
    "1. This tool, though not intended to, but may indirectly encourage people to gamble.\n",
    "2. destroy the spirit of this beautiful game. This tool stands to provide a better recommendation for substitutions than existing recommendations available on Fantasy Premier League site and in no way effect the spirit of the sports.\n",
    "3. While the tool aims to have no biases towards player performances, it tends to select players based on recent performances and their data, which is detrimental to new players."
   ]
  }
 ],
 "metadata": {
  "kernelspec": {
   "display_name": "Python 3",
   "language": "python",
   "name": "python3"
  },
  "language_info": {
   "codemirror_mode": {
    "name": "ipython",
    "version": 3
   },
   "file_extension": ".py",
   "mimetype": "text/x-python",
   "name": "python",
   "nbconvert_exporter": "python",
   "pygments_lexer": "ipython3",
   "version": "3.6.5"
  }
 },
 "nbformat": 4,
 "nbformat_minor": 2
}
