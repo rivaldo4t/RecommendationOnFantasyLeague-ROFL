{
 "cells": [
  {
   "cell_type": "markdown",
   "metadata": {},
   "source": [
    "<h1><center>Recommendation On Fantasy League - ROFL</center></h1>"
   ]
  },
  {
   "cell_type": "markdown",
   "metadata": {},
   "source": [
    "<img src=\"fantasy-premier-league-show.png\">"
   ]
  },
  {
   "cell_type": "markdown",
   "metadata": {},
   "source": [
    "# Introduction\n",
    "\n",
    "\n",
    "Soccer is one of the most followed games in the world, and English Premier League(EPL) is highest earning, most competitive and most watched sports league. As soccer lovers, this experience extends beyond viewing the game and participating in Fantasy Premier Leagues and even betting, which may or may not include monetary transactions.\n",
    "The popularity of FPL can be judged from the fact that more than 4 million people in Britain itself play the league annually.\n",
    "\n",
    "Fantasy football is a game in which participants assemble an imaginary team of real life footballers and score points based on those players' actual statistical performance or their perceived contribution on the field of play. The fantasy football league ask participants to select 15 players within a price budget, with the combination of 2 goalkeepers, 5 defenders, 5 midfielders and 3 forwards. The game is run over 38 gameweeks, where each gameweek comprises of 10 matches of 20 teams. The aim of the game is to score as many points as possible. The scoring is done based on some factors, like, player appearance, goals scored, assists, clean sheets, penalties, wins. The scoring is adversely affected if goals are scored against the team, yellow or red card received, penalty misses, own goals and loss.\n",
    "\n",
    "<img src=\"EPL-1.jpg\"> \n",
    "\n",
    "## Motivation\n",
    "As soccer fans and budding data scientists, we plan to tackle the problem of selecting players in an optimal and unbiased way. Most people, around the world, place bets based on emotions, expert advice or player popularity. At best, they consider past performances or statistics to find the optimal bet. We plan to build a recommender engine that ranks the players of different categories(Forward, Midfielder, Defender, Goalkeeper) and lets the user build his own team.\n",
    "\n",
    "Our motivation of this project is to help soccer fans make informed decisions. Since our algorithms has no biases towards players, it helps bring relatively unknown players who are performing very well into limelight. This is due to the fact that we take into consideration unique features. "
   ]
  },
  {
   "cell_type": "markdown",
   "metadata": {},
   "source": [
    "<img src=\"img1.jpg\"> "
   ]
  },
  {
   "cell_type": "markdown",
   "metadata": {},
   "source": [
    "# Related work\n",
    "\n",
    "Current tools provide specific functionalities like customized transfer recommendations, points, projections, etc. using past statistics but most of them require a subscription.\n",
    "\n",
    "Related work include Fantasy Football Fix(https://www.fantasyfootballfix.com/), which has features like predicting which players will change in value and when, showing player points projects based on past statistics. The work suffers from the drawback that the onus is on user to create his own team and try out different team combinations based on points predicted and optimizations suggested. \n",
    "Fantasy Football Geek(http://www.fantasyfootballgeek.co.uk/) and Scout(https://www.fantasyfootballscout.co.uk/) post news, tips and tricks, player rankings, game analysis, etc based on expert opinions but do not provide actual recommendations that our project aims to do.\n",
    "\n",
    "Our project provides recommendations based on players data from recent and past performances. We provide recommendations on different categories, like top 10 attackers, defenders, midfielders and goalkeepers, which will help the user to build his own team. Unlike other subscription based solutions, we aim to make our project free for all soccer fans. By providing recommendations in each category, we provide a simplistic and easy to use solution for everyone. These differences certainly prove to be beneficial to users. \n",
    "\n",
    "from IPython.display import HTML, display\n",
    "display(HTML(\"<table><tr><td><img src='fantasyfix.png'></td><td><img src='fantasyfix2.png'></td></tr></table>\"))\n"
   ]
  },
  {
   "cell_type": "markdown",
   "metadata": {},
   "source": [
    "# Proposed solution\n",
    "\n",
    "\n",
    "<img src=\"flow.png\"> "
   ]
  },
  {
   "cell_type": "markdown",
   "metadata": {},
   "source": [
    "## Data Preprocessing\n"
   ]
  },
  {
   "cell_type": "markdown",
   "metadata": {},
   "source": [
    "### Data collection, parsing, aggregation\n",
    "1. Dataset for season 2016-17 has been obtained from https://github.com/vaastav/Fantasy-Premier-League/tree/master/data/2016-17. Current Season data is scraped from Fantasy Premier League website. Dataset includes both explicit and implicit features for each player. Explicit features are assists, goals scored, saves, passes completed, etc while implicit features cover player's bonus points, influence, creativity and threats. The dataset also covers player's past seasons history. Dataset for past season(2016-17) and (2017-18) contains gameweek wise scores and features for player. b 2. Player position and team data has been taken from FoxSports. \n",
    "3. Further, fixture table showing gameweek wise schedule of each match has been taken from Fantasy Premier League website.\n",
    "Data from all the above sources has been merged together"
   ]
  },
  {
   "cell_type": "code",
   "execution_count": 163,
   "metadata": {},
   "outputs": [],
   "source": [
    "import unicodedata\n",
    "import pandas as pd\n",
    "import glob\n",
    "\n"
   ]
  },
  {
   "cell_type": "code",
   "execution_count": 164,
   "metadata": {},
   "outputs": [
    {
     "data": {
      "text/html": [
       "<div>\n",
       "<style scoped>\n",
       "    .dataframe tbody tr th:only-of-type {\n",
       "        vertical-align: middle;\n",
       "    }\n",
       "\n",
       "    .dataframe tbody tr th {\n",
       "        vertical-align: top;\n",
       "    }\n",
       "\n",
       "    .dataframe thead th {\n",
       "        text-align: right;\n",
       "    }\n",
       "</style>\n",
       "<table border=\"1\" class=\"dataframe\">\n",
       "  <thead>\n",
       "    <tr style=\"text-align: right;\">\n",
       "      <th></th>\n",
       "      <th>0</th>\n",
       "    </tr>\n",
       "  </thead>\n",
       "  <tbody>\n",
       "    <tr>\n",
       "      <th>Steven_Berghuis</th>\n",
       "      <td>13.000000</td>\n",
       "    </tr>\n",
       "    <tr>\n",
       "      <th>Ethan_Robson</th>\n",
       "      <td>0.000000</td>\n",
       "    </tr>\n",
       "    <tr>\n",
       "      <th>Christian_Fuchs</th>\n",
       "      <td>150.000000</td>\n",
       "    </tr>\n",
       "    <tr>\n",
       "      <th>Jan_Vertonghen</th>\n",
       "      <td>101.000000</td>\n",
       "    </tr>\n",
       "    <tr>\n",
       "      <th>Mamadou_Sakho</th>\n",
       "      <td>56.666667</td>\n",
       "    </tr>\n",
       "  </tbody>\n",
       "</table>\n",
       "</div>"
      ],
      "text/plain": [
       "                          0\n",
       "Steven_Berghuis   13.000000\n",
       "Ethan_Robson       0.000000\n",
       "Christian_Fuchs  150.000000\n",
       "Jan_Vertonghen   101.000000\n",
       "Mamadou_Sakho     56.666667"
      ]
     },
     "execution_count": 164,
     "metadata": {},
     "output_type": "execute_result"
    }
   ],
   "source": [
    "path = 'data/2016-17/players'\n",
    "filenames = glob.glob(path + \"/*/history.csv\")\n",
    "all_p_hData = (pd.read_csv(f, encoding='utf-8') for f in filenames)\n",
    "\n",
    "player_history = pd.concat(all_p_hData, keys=[unicodedata.normalize('NFD', unicode(f[21:-12], \"utf-8\")).encode('ascii', 'ignore') for f in filenames])\n",
    "#print player_history[:50]\n",
    "player_data_df = player_history['total_points']\n",
    "\n",
    "\n",
    "#print player_data_df\n",
    "\n",
    "player_1617 = {} \n",
    "player_1718 = {}\n",
    "\n",
    "for i, j in player_data_df.groupby(level = 0):\n",
    "    mean_1718 = j[:].mean()\n",
    "    mean_1617 = 0\n",
    "    if len(j) > 1:\n",
    "        mean_1617 = (j[:].sum() - j[len(j)-1])/float(len(j)-1)\n",
    "        \n",
    "    player_1617[i] = mean_1617\n",
    "    player_1718[i] = mean_1718\n",
    "\n",
    "    \n",
    "player_1617_history_df = pd.DataFrame.from_dict(player_1617, orient='index', dtype=float)\n",
    "player_1718_history_df = pd.DataFrame.from_dict(player_1718, orient='index', dtype=float)\n",
    "player_1617_history_df[:5]"
   ]
  },
  {
   "cell_type": "markdown",
   "metadata": {},
   "source": [
    "### 2016-17 Training Data"
   ]
  },
  {
   "cell_type": "code",
   "execution_count": 165,
   "metadata": {},
   "outputs": [],
   "source": [
    "path = 'data/2016-17/players'\n",
    "filenames = glob.glob(path + \"/*/gw.csv\")\n",
    "\n",
    "all_p_gwData = (pd.read_csv(f, index_col='round', encoding='utf-8') for f in filenames)\n",
    "players_gw_1617_df = pd.concat(all_p_gwData, keys=[unicodedata.normalize('NFD', unicode(f[21:-7], \"utf-8\")).encode('ascii', 'ignore') for f in filenames])\n",
    "\n",
    "#players_gw_1617_df\n"
   ]
  },
  {
   "cell_type": "code",
   "execution_count": 166,
   "metadata": {},
   "outputs": [
    {
     "data": {
      "text/html": [
       "<div>\n",
       "<style scoped>\n",
       "    .dataframe tbody tr th:only-of-type {\n",
       "        vertical-align: middle;\n",
       "    }\n",
       "\n",
       "    .dataframe tbody tr th {\n",
       "        vertical-align: top;\n",
       "    }\n",
       "\n",
       "    .dataframe thead th {\n",
       "        text-align: right;\n",
       "    }\n",
       "</style>\n",
       "<table border=\"1\" class=\"dataframe\">\n",
       "  <thead>\n",
       "    <tr style=\"text-align: right;\">\n",
       "      <th></th>\n",
       "      <th>PositionsList</th>\n",
       "      <th>Team</th>\n",
       "    </tr>\n",
       "    <tr>\n",
       "      <th>P_name</th>\n",
       "      <th></th>\n",
       "      <th></th>\n",
       "    </tr>\n",
       "  </thead>\n",
       "  <tbody>\n",
       "    <tr>\n",
       "      <th>Almen_Abdi</th>\n",
       "      <td>MID</td>\n",
       "      <td>Watford</td>\n",
       "    </tr>\n",
       "    <tr>\n",
       "      <th>Charlie_Adam</th>\n",
       "      <td>MID</td>\n",
       "      <td>Stoke</td>\n",
       "    </tr>\n",
       "    <tr>\n",
       "      <th>Albert_Adomah</th>\n",
       "      <td>MID</td>\n",
       "      <td>Middlesbrough</td>\n",
       "    </tr>\n",
       "    <tr>\n",
       "      <th>Adrian_San Miguel del Castillo</th>\n",
       "      <td>GLK</td>\n",
       "      <td>West Ham</td>\n",
       "    </tr>\n",
       "    <tr>\n",
       "      <th>Ibrahim_Afellay</th>\n",
       "      <td>MID</td>\n",
       "      <td>Stoke</td>\n",
       "    </tr>\n",
       "  </tbody>\n",
       "</table>\n",
       "</div>"
      ],
      "text/plain": [
       "                               PositionsList           Team\n",
       "P_name                                                     \n",
       "Almen_Abdi                               MID        Watford\n",
       "Charlie_Adam                             MID          Stoke\n",
       "Albert_Adomah                            MID  Middlesbrough\n",
       "Adrian_San Miguel del Castillo           GLK       West Ham\n",
       "Ibrahim_Afellay                          MID          Stoke"
      ]
     },
     "execution_count": 166,
     "metadata": {},
     "output_type": "execute_result"
    }
   ],
   "source": [
    "path = 'data/Player_Pos_Team_2016-17.csv'\n",
    "pname_pos_team_1617_df = pd.read_csv(path, skiprows=None, encoding='utf-8')\n",
    "\n",
    "fname1 = [unicodedata.normalize('NFD', x).encode('ascii', 'ignore') for x in pname_pos_team_1617_df['FirstName']]\n",
    "sname1 = [unicodedata.normalize('NFD', x).encode('ascii', 'ignore') for x in pname_pos_team_1617_df['Surname']]\n",
    "fname = pd.DataFrame({'name':fname1})\n",
    "sname = pd.DataFrame({'name':sname1})\n",
    "\n",
    "pname = fname + '_' + sname\n",
    "pname_pos_team_1617_df['P_name'] = pname\n",
    "\n",
    "player_pos_team = pname_pos_team_1617_df[['PositionsList', 'Team', 'P_name']].copy()\n",
    "player_pos_team.set_index('P_name', inplace=True)\n",
    "player_pos_team[:5]"
   ]
  },
  {
   "cell_type": "code",
   "execution_count": 167,
   "metadata": {},
   "outputs": [],
   "source": [
    "for i,j in players_gw_1617_df.groupby(level=0):\n",
    "    if i in player_pos_team.index:\n",
    "        players_gw_1617_df.loc[i, 'position'] = player_pos_team.loc[i]['PositionsList']\n",
    "        players_gw_1617_df.loc[i, 'team'] = player_pos_team.loc[i]['Team']    \n",
    "    \n",
    "\n"
   ]
  },
  {
   "cell_type": "code",
   "execution_count": 169,
   "metadata": {},
   "outputs": [],
   "source": [
    "team_ids_df = pd.read_csv('data/2016-17_Team_IDs.txt', index_col='ID')\n",
    "for i in team_ids_df.index:\n",
    "    team_name = team_ids_df.loc[i,'Team']\n",
    "    players_gw_1617_df['opponent_team'].replace(to_replace=i, value=team_name, inplace=True)\n",
    "\n",
    "#players_gw_1617_df['opponent_team']\n"
   ]
  },
  {
   "cell_type": "markdown",
   "metadata": {},
   "source": [
    "### 2017-18 Data Preparation"
   ]
  },
  {
   "cell_type": "code",
   "execution_count": 170,
   "metadata": {},
   "outputs": [
    {
     "data": {
      "text/html": [
       "<div>\n",
       "<style scoped>\n",
       "    .dataframe tbody tr th:only-of-type {\n",
       "        vertical-align: middle;\n",
       "    }\n",
       "\n",
       "    .dataframe tbody tr th {\n",
       "        vertical-align: top;\n",
       "    }\n",
       "\n",
       "    .dataframe thead th {\n",
       "        text-align: right;\n",
       "    }\n",
       "</style>\n",
       "<table border=\"1\" class=\"dataframe\">\n",
       "  <thead>\n",
       "    <tr style=\"text-align: right;\">\n",
       "      <th></th>\n",
       "      <th></th>\n",
       "      <th>assists</th>\n",
       "      <th>attempted_passes</th>\n",
       "      <th>big_chances_created</th>\n",
       "      <th>big_chances_missed</th>\n",
       "      <th>bonus</th>\n",
       "      <th>bps</th>\n",
       "      <th>clean_sheets</th>\n",
       "      <th>clearances_blocks_interceptions</th>\n",
       "      <th>completed_passes</th>\n",
       "      <th>creativity</th>\n",
       "      <th>...</th>\n",
       "      <th>team_h_score</th>\n",
       "      <th>threat</th>\n",
       "      <th>total_points</th>\n",
       "      <th>transfers_balance</th>\n",
       "      <th>transfers_in</th>\n",
       "      <th>transfers_out</th>\n",
       "      <th>value</th>\n",
       "      <th>was_home</th>\n",
       "      <th>winning_goals</th>\n",
       "      <th>yellow_cards</th>\n",
       "    </tr>\n",
       "    <tr>\n",
       "      <th></th>\n",
       "      <th>round</th>\n",
       "      <th></th>\n",
       "      <th></th>\n",
       "      <th></th>\n",
       "      <th></th>\n",
       "      <th></th>\n",
       "      <th></th>\n",
       "      <th></th>\n",
       "      <th></th>\n",
       "      <th></th>\n",
       "      <th></th>\n",
       "      <th></th>\n",
       "      <th></th>\n",
       "      <th></th>\n",
       "      <th></th>\n",
       "      <th></th>\n",
       "      <th></th>\n",
       "      <th></th>\n",
       "      <th></th>\n",
       "      <th></th>\n",
       "      <th></th>\n",
       "      <th></th>\n",
       "    </tr>\n",
       "  </thead>\n",
       "  <tbody>\n",
       "    <tr>\n",
       "      <th rowspan=\"5\" valign=\"top\">Jeff_Hendrick</th>\n",
       "      <th>1</th>\n",
       "      <td>0</td>\n",
       "      <td>27</td>\n",
       "      <td>0</td>\n",
       "      <td>0</td>\n",
       "      <td>0</td>\n",
       "      <td>8</td>\n",
       "      <td>0</td>\n",
       "      <td>6</td>\n",
       "      <td>26</td>\n",
       "      <td>16.6</td>\n",
       "      <td>...</td>\n",
       "      <td>2</td>\n",
       "      <td>0.0</td>\n",
       "      <td>2</td>\n",
       "      <td>0</td>\n",
       "      <td>0</td>\n",
       "      <td>0</td>\n",
       "      <td>55</td>\n",
       "      <td>False</td>\n",
       "      <td>0</td>\n",
       "      <td>0</td>\n",
       "    </tr>\n",
       "    <tr>\n",
       "      <th>2</th>\n",
       "      <td>0</td>\n",
       "      <td>36</td>\n",
       "      <td>1</td>\n",
       "      <td>0</td>\n",
       "      <td>0</td>\n",
       "      <td>7</td>\n",
       "      <td>0</td>\n",
       "      <td>1</td>\n",
       "      <td>28</td>\n",
       "      <td>22.0</td>\n",
       "      <td>...</td>\n",
       "      <td>0</td>\n",
       "      <td>46.0</td>\n",
       "      <td>2</td>\n",
       "      <td>-61</td>\n",
       "      <td>464</td>\n",
       "      <td>525</td>\n",
       "      <td>55</td>\n",
       "      <td>True</td>\n",
       "      <td>0</td>\n",
       "      <td>0</td>\n",
       "    </tr>\n",
       "    <tr>\n",
       "      <th>3</th>\n",
       "      <td>0</td>\n",
       "      <td>0</td>\n",
       "      <td>0</td>\n",
       "      <td>0</td>\n",
       "      <td>0</td>\n",
       "      <td>0</td>\n",
       "      <td>0</td>\n",
       "      <td>0</td>\n",
       "      <td>0</td>\n",
       "      <td>0.0</td>\n",
       "      <td>...</td>\n",
       "      <td>1</td>\n",
       "      <td>0.0</td>\n",
       "      <td>0</td>\n",
       "      <td>-834</td>\n",
       "      <td>196</td>\n",
       "      <td>1030</td>\n",
       "      <td>55</td>\n",
       "      <td>False</td>\n",
       "      <td>0</td>\n",
       "      <td>0</td>\n",
       "    </tr>\n",
       "    <tr>\n",
       "      <th>4</th>\n",
       "      <td>0</td>\n",
       "      <td>0</td>\n",
       "      <td>0</td>\n",
       "      <td>0</td>\n",
       "      <td>0</td>\n",
       "      <td>0</td>\n",
       "      <td>0</td>\n",
       "      <td>0</td>\n",
       "      <td>0</td>\n",
       "      <td>0.0</td>\n",
       "      <td>...</td>\n",
       "      <td>1</td>\n",
       "      <td>0.0</td>\n",
       "      <td>0</td>\n",
       "      <td>-1324</td>\n",
       "      <td>43</td>\n",
       "      <td>1367</td>\n",
       "      <td>54</td>\n",
       "      <td>True</td>\n",
       "      <td>0</td>\n",
       "      <td>0</td>\n",
       "    </tr>\n",
       "    <tr>\n",
       "      <th>5</th>\n",
       "      <td>0</td>\n",
       "      <td>0</td>\n",
       "      <td>0</td>\n",
       "      <td>0</td>\n",
       "      <td>0</td>\n",
       "      <td>0</td>\n",
       "      <td>0</td>\n",
       "      <td>0</td>\n",
       "      <td>0</td>\n",
       "      <td>0.0</td>\n",
       "      <td>...</td>\n",
       "      <td>1</td>\n",
       "      <td>0.0</td>\n",
       "      <td>0</td>\n",
       "      <td>-692</td>\n",
       "      <td>29</td>\n",
       "      <td>721</td>\n",
       "      <td>54</td>\n",
       "      <td>False</td>\n",
       "      <td>0</td>\n",
       "      <td>0</td>\n",
       "    </tr>\n",
       "  </tbody>\n",
       "</table>\n",
       "<p>5 rows × 53 columns</p>\n",
       "</div>"
      ],
      "text/plain": [
       "                     assists  attempted_passes  big_chances_created  \\\n",
       "              round                                                   \n",
       "Jeff_Hendrick 1            0                27                    0   \n",
       "              2            0                36                    1   \n",
       "              3            0                 0                    0   \n",
       "              4            0                 0                    0   \n",
       "              5            0                 0                    0   \n",
       "\n",
       "                     big_chances_missed  bonus  bps  clean_sheets  \\\n",
       "              round                                                 \n",
       "Jeff_Hendrick 1                       0      0    8             0   \n",
       "              2                       0      0    7             0   \n",
       "              3                       0      0    0             0   \n",
       "              4                       0      0    0             0   \n",
       "              5                       0      0    0             0   \n",
       "\n",
       "                     clearances_blocks_interceptions  completed_passes  \\\n",
       "              round                                                      \n",
       "Jeff_Hendrick 1                                    6                26   \n",
       "              2                                    1                28   \n",
       "              3                                    0                 0   \n",
       "              4                                    0                 0   \n",
       "              5                                    0                 0   \n",
       "\n",
       "                     creativity      ...       team_h_score  threat  \\\n",
       "              round                  ...                              \n",
       "Jeff_Hendrick 1            16.6      ...                  2     0.0   \n",
       "              2            22.0      ...                  0    46.0   \n",
       "              3             0.0      ...                  1     0.0   \n",
       "              4             0.0      ...                  1     0.0   \n",
       "              5             0.0      ...                  1     0.0   \n",
       "\n",
       "                     total_points  transfers_balance  transfers_in  \\\n",
       "              round                                                  \n",
       "Jeff_Hendrick 1                 2                  0             0   \n",
       "              2                 2                -61           464   \n",
       "              3                 0               -834           196   \n",
       "              4                 0              -1324            43   \n",
       "              5                 0               -692            29   \n",
       "\n",
       "                     transfers_out  value  was_home  winning_goals  \\\n",
       "              round                                                  \n",
       "Jeff_Hendrick 1                  0     55     False              0   \n",
       "              2                525     55      True              0   \n",
       "              3               1030     55     False              0   \n",
       "              4               1367     54      True              0   \n",
       "              5                721     54     False              0   \n",
       "\n",
       "                     yellow_cards  \n",
       "              round                \n",
       "Jeff_Hendrick 1                 0  \n",
       "              2                 0  \n",
       "              3                 0  \n",
       "              4                 0  \n",
       "              5                 0  \n",
       "\n",
       "[5 rows x 53 columns]"
      ]
     },
     "execution_count": 170,
     "metadata": {},
     "output_type": "execute_result"
    }
   ],
   "source": [
    "path = 'data/2017-18/players'\n",
    "filenames = glob.glob(path + \"/*/gw.csv\")\n",
    "\n",
    "all_p_gwData = (pd.read_csv(f, index_col='round', encoding='utf-8') for f in filenames)\n",
    "players_gw_1718_df = pd.concat(all_p_gwData, keys=[unicodedata.normalize('NFD', unicode(f[21:-7], \"utf-8\")).encode('ascii', 'ignore') for f in filenames])\n",
    "\n",
    "\n",
    "for name,j in players_gw_1718_df.groupby(level=0):\n",
    "    name = unicode(name, \"utf-8\")\n",
    "    name = unicodedata.normalize('NFD', name).encode('ascii', 'ignore')\n",
    "\n",
    "players_gw_1718_df[:5]"
   ]
  },
  {
   "cell_type": "code",
   "execution_count": 171,
   "metadata": {},
   "outputs": [
    {
     "data": {
      "text/html": [
       "<div>\n",
       "<style scoped>\n",
       "    .dataframe tbody tr th:only-of-type {\n",
       "        vertical-align: middle;\n",
       "    }\n",
       "\n",
       "    .dataframe tbody tr th {\n",
       "        vertical-align: top;\n",
       "    }\n",
       "\n",
       "    .dataframe thead th {\n",
       "        text-align: right;\n",
       "    }\n",
       "</style>\n",
       "<table border=\"1\" class=\"dataframe\">\n",
       "  <thead>\n",
       "    <tr style=\"text-align: right;\">\n",
       "      <th></th>\n",
       "      <th>PositionsList</th>\n",
       "      <th>Team</th>\n",
       "    </tr>\n",
       "    <tr>\n",
       "      <th>P_name</th>\n",
       "      <th></th>\n",
       "      <th></th>\n",
       "    </tr>\n",
       "  </thead>\n",
       "  <tbody>\n",
       "    <tr>\n",
       "      <th>Rolando_Aarons</th>\n",
       "      <td>MID</td>\n",
       "      <td>Newcastle Utd</td>\n",
       "    </tr>\n",
       "    <tr>\n",
       "      <th>Tammy_Abraham</th>\n",
       "      <td>FWD</td>\n",
       "      <td>Swansea</td>\n",
       "    </tr>\n",
       "    <tr>\n",
       "      <th>Charlie_Adam</th>\n",
       "      <td>MID</td>\n",
       "      <td>Stoke</td>\n",
       "    </tr>\n",
       "    <tr>\n",
       "      <th>Adam_Smith</th>\n",
       "      <td>DEF</td>\n",
       "      <td>Bournemouth</td>\n",
       "    </tr>\n",
       "    <tr>\n",
       "      <th>Oluwatosin_Adarabioyo</th>\n",
       "      <td>DEF</td>\n",
       "      <td>Man City</td>\n",
       "    </tr>\n",
       "  </tbody>\n",
       "</table>\n",
       "</div>"
      ],
      "text/plain": [
       "                      PositionsList           Team\n",
       "P_name                                            \n",
       "Rolando_Aarons                  MID  Newcastle Utd\n",
       "Tammy_Abraham                   FWD        Swansea\n",
       "Charlie_Adam                    MID          Stoke\n",
       "Adam_Smith                      DEF    Bournemouth\n",
       "Oluwatosin_Adarabioyo           DEF       Man City"
      ]
     },
     "execution_count": 171,
     "metadata": {},
     "output_type": "execute_result"
    }
   ],
   "source": [
    "path = 'data/Player_Pos_Team_2017-18.csv'\n",
    "pname_pos_team_1718_df = pd.read_csv(path, skiprows=None, encoding='utf-8')\n",
    "\n",
    "fname1 = [unicodedata.normalize('NFD', x).encode('ascii', 'ignore') for x in pname_pos_team_1718_df['FirstName']]\n",
    "sname1 = [unicodedata.normalize('NFD', x).encode('ascii', 'ignore') for x in pname_pos_team_1718_df['Surname']]\n",
    "fname = pd.DataFrame({'name':fname1})\n",
    "sname = pd.DataFrame({'name':sname1})\n",
    "\n",
    "pname = fname + '_' + sname\n",
    "pname_pos_team_1718_df['P_name'] = pname\n",
    "\n",
    "player_pos_team1 = pname_pos_team_1718_df[['PositionsList', 'Team', 'P_name']].copy()\n",
    "player_pos_team1.set_index('P_name', inplace=True)\n",
    "player_pos_team1[:5]"
   ]
  },
  {
   "cell_type": "code",
   "execution_count": 172,
   "metadata": {},
   "outputs": [],
   "source": [
    "for i,j in players_gw_1718_df.groupby(level=0):\n",
    "    if i in player_pos_team1.index:\n",
    "        players_gw_1718_df.loc[i, 'position'] = player_pos_team1.loc[i,'PositionsList']\n",
    "        players_gw_1718_df.loc[i, 'team'] = player_pos_team1.loc[i]['Team']\n",
    "        \n",
    "# print players_gw_1718_df.loc['Aaron_Cresswell']"
   ]
  },
  {
   "cell_type": "code",
   "execution_count": 173,
   "metadata": {},
   "outputs": [],
   "source": [
    "for i in team_ids_df.index:\n",
    "    team_name = team_ids_df.loc[i,'Team']\n",
    "    players_gw_1718_df['opponent_team'].replace(to_replace=i, value=team_name, inplace=True)\n",
    "\n",
    "#players_gw_1718_df['opponent_team']"
   ]
  },
  {
   "cell_type": "code",
   "execution_count": 174,
   "metadata": {},
   "outputs": [
    {
     "name": "stdout",
     "output_type": "stream",
     "text": [
      "(23679, 2)\n",
      "(23679, 1)\n"
     ]
    }
   ],
   "source": [
    "general_feature_cols = ['was_home', 'opponent_team']\n",
    "\n",
    "X_train_gen_features_df = players_gw_1617_df.loc[:, general_feature_cols]\n",
    "print X_train_gen_features_df.shape\n",
    "\n",
    "Y_train_gen_features_df = players_gw_1617_df.loc[:, ['total_points']]\n",
    "print Y_train_gen_features_df.shape"
   ]
  },
  {
   "cell_type": "markdown",
   "metadata": {},
   "source": [
    "### Create X_Train and X_Test Data"
   ]
  },
  {
   "cell_type": "markdown",
   "metadata": {},
   "source": [
    "1. First, data is splitted into training and testing. The model is trained on data from 2016-17 season. The data for each player is averaged for gameweek, such that each feature is averaged over all the gameweeks. \n",
    "\n",
    "2. In case of transfers, only those gameweeks are taken into consideration from which the player has entered the season. We test the data on 2017-18 season for each gameweek starting from gameweek 6. \n",
    "\n",
    "3. Our test data for a gameweek is the average of last five gameweeks, for example, for gameweek 6, the test data features are average of features of last 5 games. The player's past history feature is taken as average points over the seasons he has played prior to the season the model is trained/tested on.\n",
    "\n",
    "4. The data is divided into 4 categories, for each position, namely, Goalkeeper, Forward, Defender, and Midfielder."
   ]
  },
  {
   "cell_type": "markdown",
   "metadata": {},
   "source": [
    "### TRAIN DATA"
   ]
  },
  {
   "cell_type": "code",
   "execution_count": 175,
   "metadata": {},
   "outputs": [],
   "source": [
    "usecols = ['assists', 'attempted_passes', 'big_chances_created', 'big_chances_missed', 'bonus', 'bps', 'clean_sheets', \n",
    "'clearances_blocks_interceptions', 'completed_passes', 'creativity', 'dribbles', 'ea_index', 'errors_leading_to_goal', 'errors_leading_to_goal_attempt',\n",
    "'fouls', 'goals_conceded', 'goals_scored', 'ict_index', 'influence', 'key_passes', 'minutes', 'offside', 'open_play_crosses', \n",
    "'own_goals', 'penalties_conceded', 'penalties_missed', 'penalties_saved', 'recoveries', 'red_cards', 'saves', 'selected', 'tackled', \n",
    "'tackles', 'target_missed', 'threat', 'transfers_balance', 'total_points', 'history_points', 'value', 'yellow_cards']\n",
    "\n"
   ]
  },
  {
   "cell_type": "code",
   "execution_count": 176,
   "metadata": {},
   "outputs": [],
   "source": [
    "players_gw_1617_df['history_points'] = 0\n",
    "\n",
    "\n",
    "\n",
    "for i, j in players_gw_1617_df.groupby(level = 0):\n",
    "    if i in player_1617_history_df.index:\n",
    "        #print player_1617_history_df.loc[i,0]\n",
    "        players_gw_1617_df.loc[i,'history_points'] = player_1617_history_df.loc[i,0]\n",
    "        \n",
    "#print players_gw_1617_df.loc['Aaron_Cresswell', 'history_points']      \n",
    "        "
   ]
  },
  {
   "cell_type": "code",
   "execution_count": 177,
   "metadata": {},
   "outputs": [],
   "source": [
    "players_gw_1718_df['history_points'] = 0\n",
    "\n",
    "\n",
    "\n",
    "for i, j in players_gw_1718_df.groupby(level = 0):\n",
    "    if i in player_1718_history_df.index:\n",
    "        #print player_1617_history_df.loc[i,0]\n",
    "        players_gw_1718_df.loc[i,'history_points'] = player_1718_history_df.loc[i,0]\n",
    "        \n",
    "#print players_gw_1718_df.loc['Aaron_Cresswell', 'history_points']      "
   ]
  },
  {
   "cell_type": "code",
   "execution_count": 178,
   "metadata": {},
   "outputs": [],
   "source": [
    "X_train_players_glk_gw_df = players_gw_1617_df.loc[players_gw_1617_df['position'] == 'GLK']\n",
    "X_train_players_def_gw_df = players_gw_1617_df.loc[players_gw_1617_df['position'] == 'DEF']\n",
    "X_train_players_mid_gw_df = players_gw_1617_df.loc[players_gw_1617_df['position'] == 'MID']\n",
    "X_train_players_fwd_gw_df = players_gw_1617_df.loc[players_gw_1617_df['position'] == 'FWD']"
   ]
  },
  {
   "cell_type": "code",
   "execution_count": 179,
   "metadata": {},
   "outputs": [],
   "source": [
    "X_train_players_glk_avg_df = X_train_players_glk_gw_df[usecols].groupby(level=0).mean()\n",
    "X_train_players_def_avg_df = X_train_players_def_gw_df[usecols].groupby(level=0).mean()\n",
    "X_train_players_mid_avg_df = X_train_players_mid_gw_df[usecols].groupby(level=0).mean()\n",
    "X_train_players_fwd_avg_df = X_train_players_fwd_gw_df[usecols].groupby(level=0).mean()"
   ]
  },
  {
   "cell_type": "code",
   "execution_count": 180,
   "metadata": {},
   "outputs": [
    {
     "name": "stdout",
     "output_type": "stream",
     "text": [
      "DEF:  210\n",
      "FWD:  110\n",
      "GLK:  69\n",
      "MID:  279\n"
     ]
    }
   ],
   "source": [
    "n = 0\n",
    "for i in X_train_players_def_avg_df.index:\n",
    "    if i in player_pos_team.index:\n",
    "        n += 1\n",
    "        X_train_players_def_avg_df.loc[i, 'team'] = player_pos_team.loc[i]['Team']\n",
    "print \"DEF: \", n\n",
    "\n",
    "n = 0\n",
    "for i in X_train_players_fwd_avg_df.index:\n",
    "    if i in player_pos_team.index:\n",
    "        n += 1\n",
    "        X_train_players_fwd_avg_df.loc[i, 'team'] = player_pos_team.loc[i]['Team']\n",
    "print \"FWD: \", n\n",
    "\n",
    "n = 0\n",
    "for i in X_train_players_glk_avg_df.index:\n",
    "    if i in player_pos_team.index:\n",
    "        n += 1\n",
    "        X_train_players_glk_avg_df.loc[i, 'team'] = player_pos_team.loc[i]['Team']\n",
    "print \"GLK: \", n\n",
    "\n",
    "n = 0\n",
    "for i in X_train_players_mid_avg_df.index:\n",
    "    if i in player_pos_team.index:\n",
    "        n += 1\n",
    "        X_train_players_mid_avg_df.loc[i, 'team'] = player_pos_team.loc[i]['Team']\n",
    "print \"MID: \", n"
   ]
  },
  {
   "cell_type": "code",
   "execution_count": 181,
   "metadata": {},
   "outputs": [],
   "source": [
    "Y_train_players_fwd_avg_df = X_train_players_fwd_avg_df.loc[:, X_train_players_fwd_avg_df.columns == 'total_points']\n",
    "Y_train_players_def_avg_df = X_train_players_def_avg_df.loc[:, X_train_players_def_avg_df.columns == 'total_points']\n",
    "Y_train_players_mid_avg_df = X_train_players_mid_avg_df.loc[:, X_train_players_mid_avg_df.columns == 'total_points']\n",
    "Y_train_players_glk_avg_df = X_train_players_glk_avg_df.loc[:, X_train_players_glk_avg_df.columns == 'total_points']\n",
    "\n",
    "X_train_players_fwd_avg_df = X_train_players_fwd_avg_df.loc[:, X_train_players_fwd_avg_df.columns != 'total_points']\n",
    "X_train_players_def_avg_df = X_train_players_def_avg_df.loc[:, X_train_players_def_avg_df.columns != 'total_points']\n",
    "X_train_players_mid_avg_df = X_train_players_mid_avg_df.loc[:, X_train_players_mid_avg_df.columns != 'total_points']\n",
    "X_train_players_glk_avg_df = X_train_players_glk_avg_df.loc[:, X_train_players_glk_avg_df.columns != 'total_points']"
   ]
  },
  {
   "cell_type": "markdown",
   "metadata": {},
   "source": [
    "### TEST DATA"
   ]
  },
  {
   "cell_type": "code",
   "execution_count": 182,
   "metadata": {},
   "outputs": [],
   "source": [
    "X_test_df = players_gw_1718_df.copy()\n",
    "# count = 0\n",
    "for i,j in X_test_df.groupby(level=0):\n",
    "    gw_list = [x[1] for x in list(j.index)]\n",
    "    for gw, row in j.iterrows():\n",
    "        X_test_df.loc[(gw[0], gw[1]), usecols] = 0.0\n",
    "        if(gw[1] > 5):\n",
    "#             if(count > 1):\n",
    "#                 break\n",
    "            if((gw[1]-1) in gw_list):\n",
    "                X_test_df.loc[(gw[0], gw[1]), usecols] += (players_gw_1718_df.loc[(gw[0], gw[1]-1), usecols])\n",
    "            if((gw[1]-2) in gw_list):\n",
    "                X_test_df.loc[(gw[0], gw[1]), usecols] += (players_gw_1718_df.loc[(gw[0], gw[1]-2), usecols])\n",
    "            if((gw[1]-3) in gw_list):\n",
    "                X_test_df.loc[(gw[0], gw[1]),usecols] += (players_gw_1718_df.loc[(gw[0], gw[1]-3), usecols])\n",
    "            if((gw[1]-4) in gw_list):\n",
    "                X_test_df.loc[(gw[0], gw[1]), usecols] += (players_gw_1718_df.loc[(gw[0], gw[1]-4), usecols])\n",
    "            if((gw[1]-5) in gw_list):\n",
    "                X_test_df.loc[(gw[0], gw[1]), usecols] += (players_gw_1718_df.loc[(gw[0], gw[1]-5), usecols])\n",
    "            #print X_test_df.loc[gw, usecols]\n",
    "            X_test_df.loc[gw,usecols] = X_test_df.loc[gw,usecols].div(5, axis=0)\n",
    "            #X_test_df.loc[gw] = X_test_df/5\n",
    "            #print X_test_df.loc[gw]\n",
    "            \n",
    "            #count += 1\n",
    "        #print j.loc[(gw[0], gw[1])]\n",
    "#     if count > 1:\n",
    "#         break\n",
    "\n",
    "#print players_gw_1718_df.iloc[:, players_gw_1718_df.groupby(level == 0) == 'Aaron_Cresswell']\n",
    "# print players_gw_1718_df.loc[('Aaron_Cresswell',20)]"
   ]
  },
  {
   "cell_type": "code",
   "execution_count": 183,
   "metadata": {},
   "outputs": [
    {
     "name": "stdout",
     "output_type": "stream",
     "text": [
      "Stored 'X_test_df' (DataFrame)\n"
     ]
    }
   ],
   "source": [
    "%store X_test_df"
   ]
  },
  {
   "cell_type": "code",
   "execution_count": 184,
   "metadata": {},
   "outputs": [],
   "source": [
    "%store -r"
   ]
  },
  {
   "cell_type": "code",
   "execution_count": 185,
   "metadata": {},
   "outputs": [
    {
     "name": "stdout",
     "output_type": "stream",
     "text": [
      "(1463, 42)\n",
      "(3530, 42)\n",
      "(1124, 42)\n",
      "(4446, 42)\n"
     ]
    }
   ],
   "source": [
    "usecols.extend(['position', 'team'])\n",
    "X_test_df_temp = X_test_df[usecols]\n",
    "\n",
    "X_test_players_glk_gw_df = X_test_df_temp.loc[X_test_df_temp['position'] == 'GLK']\n",
    "X_test_players_def_gw_df = X_test_df_temp.loc[X_test_df_temp['position'] == 'DEF']\n",
    "X_test_players_mid_gw_df = X_test_df_temp.loc[X_test_df_temp['position'] == 'MID']\n",
    "X_test_players_fwd_gw_df = X_test_df_temp.loc[X_test_df_temp['position'] == 'FWD']\n",
    "\n",
    "print X_test_players_fwd_gw_df.shape\n",
    "print X_test_players_def_gw_df.shape\n",
    "print X_test_players_glk_gw_df.shape\n",
    "print X_test_players_mid_gw_df.shape"
   ]
  },
  {
   "cell_type": "code",
   "execution_count": 186,
   "metadata": {},
   "outputs": [],
   "source": [
    "Y_test_players_fwd_gw_df = players_gw_1718_df.loc[players_gw_1718_df['position'] == 'FWD']\n",
    "Y_test_players_fwd_gw_df = Y_test_players_fwd_gw_df.loc[:, Y_test_players_fwd_gw_df.columns == 'total_points']"
   ]
  },
  {
   "cell_type": "code",
   "execution_count": 187,
   "metadata": {},
   "outputs": [
    {
     "data": {
      "text/html": [
       "<div>\n",
       "<style scoped>\n",
       "    .dataframe tbody tr th:only-of-type {\n",
       "        vertical-align: middle;\n",
       "    }\n",
       "\n",
       "    .dataframe tbody tr th {\n",
       "        vertical-align: top;\n",
       "    }\n",
       "\n",
       "    .dataframe thead th {\n",
       "        text-align: right;\n",
       "    }\n",
       "</style>\n",
       "<table border=\"1\" class=\"dataframe\">\n",
       "  <thead>\n",
       "    <tr style=\"text-align: right;\">\n",
       "      <th></th>\n",
       "      <th></th>\n",
       "      <th>total_points</th>\n",
       "    </tr>\n",
       "    <tr>\n",
       "      <th></th>\n",
       "      <th>round</th>\n",
       "      <th></th>\n",
       "    </tr>\n",
       "  </thead>\n",
       "  <tbody>\n",
       "    <tr>\n",
       "      <th rowspan=\"5\" valign=\"top\">Diego_Da Silva Costa</th>\n",
       "      <th>1</th>\n",
       "      <td>0</td>\n",
       "    </tr>\n",
       "    <tr>\n",
       "      <th>2</th>\n",
       "      <td>0</td>\n",
       "    </tr>\n",
       "    <tr>\n",
       "      <th>3</th>\n",
       "      <td>0</td>\n",
       "    </tr>\n",
       "    <tr>\n",
       "      <th>4</th>\n",
       "      <td>0</td>\n",
       "    </tr>\n",
       "    <tr>\n",
       "      <th>5</th>\n",
       "      <td>0</td>\n",
       "    </tr>\n",
       "  </tbody>\n",
       "</table>\n",
       "</div>"
      ],
      "text/plain": [
       "                            total_points\n",
       "                     round              \n",
       "Diego_Da Silva Costa 1                 0\n",
       "                     2                 0\n",
       "                     3                 0\n",
       "                     4                 0\n",
       "                     5                 0"
      ]
     },
     "execution_count": 187,
     "metadata": {},
     "output_type": "execute_result"
    }
   ],
   "source": [
    "Y_test_players_fwd_gw_df[:5]"
   ]
  },
  {
   "cell_type": "code",
   "execution_count": 188,
   "metadata": {},
   "outputs": [],
   "source": [
    "Y_test_players_def_gw_df = players_gw_1718_df.loc[players_gw_1718_df['position'] == 'DEF']\n",
    "Y_test_players_def_gw_df = Y_test_players_def_gw_df.loc[:, Y_test_players_def_gw_df.columns == 'total_points']\n",
    "\n",
    "Y_test_players_mid_gw_df = players_gw_1718_df.loc[players_gw_1718_df['position'] == 'MID']\n",
    "Y_test_players_mid_gw_df = Y_test_players_mid_gw_df.loc[:, Y_test_players_mid_gw_df.columns == 'total_points']\n",
    "\n",
    "Y_test_players_glk_gw_df = players_gw_1718_df.loc[players_gw_1718_df['position'] == 'GLK']\n",
    "Y_test_players_glk_gw_df = Y_test_players_glk_gw_df.loc[:, Y_test_players_glk_gw_df.columns == 'total_points']"
   ]
  },
  {
   "cell_type": "code",
   "execution_count": 189,
   "metadata": {},
   "outputs": [],
   "source": [
    "X_test_players_fwd_gw_df = X_test_players_fwd_gw_df.loc[:, X_test_players_fwd_gw_df.columns != 'total_points']\n",
    "X_test_players_def_gw_df = X_test_players_def_gw_df.loc[:, X_test_players_def_gw_df.columns != 'total_points']\n",
    "X_test_players_mid_gw_df = X_test_players_mid_gw_df.loc[:, X_test_players_mid_gw_df.columns != 'total_points']\n",
    "X_test_players_glk_gw_df = X_test_players_glk_gw_df.loc[:, X_test_players_glk_gw_df.columns != 'total_points']"
   ]
  },
  {
   "cell_type": "code",
   "execution_count": 190,
   "metadata": {},
   "outputs": [],
   "source": [
    "X_train_players_glk_avg_df.drop('team', axis=1, inplace=True)\n",
    "#print X_train_players_glk_avg_df.columns"
   ]
  },
  {
   "cell_type": "code",
   "execution_count": 191,
   "metadata": {},
   "outputs": [],
   "source": [
    "X_test_players_glk_gw_df.drop(['team', 'position'], axis=1, inplace=True)\n",
    "X_train_players_def_avg_df.drop('team', axis=1, inplace=True)\n",
    "X_test_players_def_gw_df.drop(['team', 'position'], axis=1, inplace=True)\n",
    "X_train_players_fwd_avg_df.drop('team', axis=1, inplace=True)\n",
    "X_test_players_fwd_gw_df.drop(['team', 'position'], axis=1, inplace=True)\n",
    "X_train_players_mid_avg_df.drop('team', axis=1, inplace=True)\n",
    "X_test_players_mid_gw_df.drop(['team', 'position'], axis=1, inplace=True)"
   ]
  },
  {
   "cell_type": "code",
   "execution_count": 192,
   "metadata": {},
   "outputs": [
    {
     "name": "stdout",
     "output_type": "stream",
     "text": [
      "(1124, 39)\n"
     ]
    }
   ],
   "source": [
    "print X_test_players_glk_gw_df.shape"
   ]
  },
  {
   "cell_type": "markdown",
   "metadata": {},
   "source": [
    "# Training model and Prediction"
   ]
  },
  {
   "cell_type": "markdown",
   "metadata": {},
   "source": [
    "1. For predicting player performance, we look at his current trend. Player's current trend is defined as average performance over the last 5 games. Next, we look at player's past performance over past seasons. Then, performance is evaluated both for implicit and explicit features and their combination.\n",
    "\n",
    "2. We have tried various models to rank the players and predict their performance, namely Linear Regression, Bayesian Ridge Regression, SVR, and Ranking SVM. The regression models just predict the total_points of the player and rank them in decreasing order in each category. Ranking SVM computes pairwise comparision of players, and for each combination of players, assigns a score of +1 or -1, depending upon who is better among the two. The final score is computed based on the number of wins for each player, and the score is sorted to obtain the top players.\n",
    "\n",
    "3. The players are ranked in each category and top 10 players in each category are recommended to the users."
   ]
  },
  {
   "cell_type": "markdown",
   "metadata": {},
   "source": [
    "# Training model definition:"
   ]
  },
  {
   "cell_type": "code",
   "execution_count": 194,
   "metadata": {},
   "outputs": [],
   "source": [
    "from sklearn import linear_model\n",
    "from sklearn.svm import SVR\n",
    "\n",
    "def linear_regression(X_train_df, Y_train_df, X_test_df, Y_test_df, num=10):\n",
    "    regr = linear_model.LinearRegression()\n",
    "    regr.fit(X_train_df, Y_train_df)\n",
    "    \n",
    "    Y_pred_df = Y_test_df.copy()\n",
    "    Y_pred_df['total_points'] = regr.predict(X_test_df)\n",
    "    \n",
    "    return calculate_precision(Y_test_df, Y_pred_df, num)\n",
    "\n",
    "\n",
    "\n",
    "\n",
    "def svm_model(X_train_df, Y_train_df, X_test_df, Y_test_df, num=10):\n",
    "    clf = SVR(C=1.0, epsilon=0.2)\n",
    "    clf.fit(X_train_df, Y_train_df)\n",
    "\n",
    "    Y_pred_df = Y_test_df.copy()\n",
    "    Y_pred_df['total_points'] = clf.predict(X_test_df)\n",
    "    \n",
    "    return calculate_precision(Y_test_df, Y_pred_df, num)\n",
    "\n",
    "\n",
    "\n",
    "\n",
    "def bayesian_ridge(X_train_df, Y_train_df, X_test_df, Y_test_df, num=10):\n",
    "    clf2 = linear_model.BayesianRidge()\n",
    "    clf2.fit(X_train_df, Y_train_df)\n",
    "    \n",
    "    Y_pred_df = Y_test_df.copy()\n",
    "    Y_pred_df['total_points'] = clf2.predict(X_test_df)\n",
    "    \n",
    "    return calculate_precision(Y_test_df, Y_pred_df, num)\n",
    "\n",
    "\n",
    "\n",
    "\n",
    "def neural_network(X_train_df, Y_train_df, X_test_df, Y_test_df, num=10):\n",
    "    clf3 = neural_network.MLPRegressor(\n",
    "    hidden_layer_sizes=(10,),  activation='relu', solver='adam', alpha=0.001, batch_size='auto',\n",
    "    learning_rate='constant', learning_rate_init=0.01, power_t=0.5, max_iter=1000, shuffle=True,\n",
    "    random_state=9, tol=0.0001, verbose=False, warm_start=False, momentum=0.9, nesterovs_momentum=True,\n",
    "    early_stopping=False, validation_fraction=0.1, beta_1=0.9, beta_2=0.999, epsilon=1e-08)\n",
    "    \n",
    "    clf3.fit(X_train_df, Y_train_df)\n",
    "    \n",
    "    Y_pred_df = Y_test_df.copy()\n",
    "    Y_pred_df['total_points'] = clf2.predict(X_test_df)\n",
    "    \n",
    "    return calculate_precision(Y_test_df, Y_pred_df, num)\n"
   ]
  },
  {
   "cell_type": "code",
   "execution_count": 195,
   "metadata": {},
   "outputs": [],
   "source": [
    "import itertools\n",
    "import numpy as np\n",
    "\n",
    "from sklearn import svm, linear_model #, cross_validation\n",
    "\n",
    "\n",
    "def transform_pairwise(X, y):\n",
    "    X_new = []\n",
    "    y_new = []\n",
    "    y = np.asarray(y)\n",
    "    if y.ndim == 1:\n",
    "        y = np.c_[y, np.ones(y.shape[0])]\n",
    "    comb = itertools.combinations(range(X.shape[0]), 2)\n",
    "    comb_actual = []\n",
    "    for k, (i, j) in enumerate(comb):\n",
    "        # print(y[i], \"   \", y[j])\n",
    "        if y[i, 0] == y[j, 0]:\n",
    "            # skip if same target or different group\n",
    "            continue\n",
    "        X_new.append(X[i] - X[j])\n",
    "        y_new.append(np.sign(y[i, 0] - y[j, 0]))\n",
    "        # output balanced classes\n",
    "        if y_new[-1] != (-1) ** k:\n",
    "            y_new[-1] = - y_new[-1]\n",
    "            X_new[-1] = - X_new[-1]\n",
    "        comb_actual.append([i,j])\n",
    "    return np.asarray(X_new), np.asarray(y_new).ravel(), comb_actual\n",
    "\n",
    "\n",
    "class RankSVM(svm.LinearSVC):\n",
    "    \"\"\"Performs pairwise ranking with an underlying LinearSVC model\n",
    "    Input should be a n-class ranking problem, this object will convert it\n",
    "    into a two-class classification problem, a setting known as\n",
    "    `pairwise ranking`.\n",
    "    See object :ref:`svm.LinearSVC` for a full description of parameters.\n",
    "    \"\"\"\n",
    "\n",
    "    def fit(self, X, y):\n",
    "        X_trans, y_trans, comb = transform_pairwise(X, y)\n",
    "        super(RankSVM, self).fit(X_trans, y_trans)\n",
    "        return self\n",
    "\n",
    "    def predict(self, X):\n",
    "        if hasattr(self, 'coef_'):\n",
    "            np.argsort(np.dot(X, self.coef_.T))\n",
    "        else:\n",
    "            raise ValueError(\"Must call fit() prior to predict()\")\n",
    "\n",
    "    def score(self, X, y):\n",
    "        X_trans, y_trans, comb = transform_pairwise(X, y)\n",
    "        return np.mean(super(RankSVM, self).predict(X_trans) == y_trans), super(RankSVM, self).predict(X_trans), y_trans, comb\n",
    "\n"
   ]
  },
  {
   "cell_type": "code",
   "execution_count": 196,
   "metadata": {},
   "outputs": [],
   "source": [
    "import os\n",
    "\n",
    "def apply_ranking_svm(X_train_df, Y_train_df, X_test_df, Y_test_df, num=10):\n",
    "    X_train_temp = X_train_df.copy()\n",
    "    X_test_temp = X_test_df.copy()\n",
    "\n",
    "    X = X_train_temp.as_matrix()\n",
    "    Y = np.array(Y_train_df)\n",
    "    \n",
    "    gw_prec_score = {}\n",
    "    Y_pred_df = Y_test_df.copy()\n",
    "    Y_pred_df['total_points'] = 0\n",
    "    \n",
    "    gw_top_players = {}\n",
    "    \n",
    "    rank_svm = RankSVM().fit(X, Y)\n",
    "    for j in range(6,20):\n",
    "        Y_test = (Y_test_df.groupby(level=1)).get_group(j).as_matrix()\n",
    "        X_test = (X_test_temp.groupby(level=1)).get_group(j).as_matrix()\n",
    "\n",
    "        #print y\n",
    "        \n",
    "        score, y_pred, y_test, comb = rank_svm.score(X_test, Y_test)\n",
    "        #print score\n",
    "\n",
    "        Y_pred = (Y_pred_df.groupby(level=1)).get_group(j)\n",
    "        Y_true_df = (Y_test_df.groupby(level=1)).get_group(j)\n",
    "        #Y_pred['total_points'] = 0\n",
    "\n",
    "\n",
    "        for counter, value in enumerate(comb):\n",
    "            if y_pred[counter] == 1:\n",
    "                Y_pred.iloc[value[0]]['total_points'] += 1\n",
    "                #print Y_pred_df.loc(Y_pred.iloc[value[0]])\n",
    "                #Y_pred_fwd.iloc[value[1]]['total_points'] -= 1\n",
    "            else:\n",
    "                #Y_pred_fwd.iloc[value[0]]['total_points'] -= 1\n",
    "                Y_pred.iloc[value[1]]['total_points'] += 1\n",
    "\n",
    "        gw_prec_score[j] = calculate_precision_one_gw(Y_true_df, Y_pred, num) \n",
    "        y_pred_group = Y_pred.sort_values(by=['total_points'], ascending=False)[:num]\n",
    "        player_list = []\n",
    "        for i in y_pred_group.iterrows():\n",
    "            player_list.append([i[0][0], i[1][0]])\n",
    "\n",
    "        gw_top_players[j] = player_list\n",
    "        #if j == 6:\n",
    "#         Y_pred_df = (Y_pred_df.add(Y_pred, axis='rows')).fillna(0)\n",
    "#         #print Y_pred_df\n",
    "#         if j == 19:\n",
    "#             print Y_pred_df\n",
    "\n",
    "        \n",
    "        \n",
    "    return gw_prec_score, gw_top_players\n"
   ]
  },
  {
   "cell_type": "markdown",
   "metadata": {},
   "source": [
    "## Evaluation Metrics, Precision definition:"
   ]
  },
  {
   "cell_type": "code",
   "execution_count": 197,
   "metadata": {},
   "outputs": [],
   "source": [
    "\n",
    "def calculate_precision(y_true_df, y_pred_df, num=10):\n",
    "    gw_prec_score = {}\n",
    "    \n",
    "    for j in range(6,20):\n",
    "        \n",
    "        y_true_gw_df = (y_true_df.groupby(level=1)).get_group(j)\n",
    "        y_pred_gw_df = (y_pred_df.groupby(level=1)).get_group(j)\n",
    "        \n",
    "        score = calculate_precision_one_gw(y_true_gw_df, y_pred_gw_df, num)\n",
    "        \n",
    "#         y_true_group = (y_true_df.groupby(level=1)).get_group(j).sort_values(by=['total_points'], ascending=False)[:num]\n",
    "#         y_pred_group = (y_pred_df.groupby(level=1)).get_group(j).sort_values(by=['total_points'], ascending=False)[:num]\n",
    "\n",
    "#         y_true_list = []\n",
    "#         for i in y_true_group.iterrows():\n",
    "#             y_true_list.append([i[0][0]])\n",
    "\n",
    "#         count = 0\n",
    "#         for i in y_pred_group.iterrows():\n",
    "#             if [i[0][0]] in y_true_list:\n",
    "#                 count += 1\n",
    "\n",
    "        gw_prec_score[j] = score\n",
    "\n",
    "    return gw_prec_score\n",
    "\n",
    "\n",
    "def calculate_precision_one_gw(Y_true_df, Y_pred_df, num=10):\n",
    "    y_true_group = Y_true_df.sort_values(by=['total_points'], ascending=False)[:num]\n",
    "    y_pred_group = Y_pred_df.sort_values(by=['total_points'], ascending=False)[:num]\n",
    "\n",
    "    #print y_true_group\n",
    "    #print y_pred_group\n",
    "    \n",
    "    y_true_list = []\n",
    "    for i in y_true_group.iterrows():\n",
    "        y_true_list.append([i[0][0]])\n",
    "\n",
    "    count = 0\n",
    "    for i in y_pred_group.iterrows():\n",
    "        if [i[0][0]] in y_true_list:\n",
    "            count += 1\n",
    "\n",
    "    gw_prec_score = count/float(num)\n",
    "    return gw_prec_score\n",
    "    \n",
    "    \n",
    "    \n",
    "def calculate_precision_for_last_gw(y_true_df, y_pred_df, num=10):\n",
    "    gw_prec_score = {}\n",
    "    \n",
    "    for j in range(6,20):\n",
    "        \n",
    "        y_true_gw_df = (y_true_df.groupby(level=1)).get_group(19)\n",
    "        y_pred_gw_df = (y_pred_df.groupby(level=1)).get_group(j)\n",
    "        \n",
    "        score = calculate_precision_one_gw(y_true_gw_df, y_pred_gw_df, num)\n",
    "        \n",
    "#         y_true_group = (y_true_df.groupby(level=1)).get_group(j).sort_values(by=['total_points'], ascending=False)[:num]\n",
    "#         y_pred_group = (y_pred_df.groupby(level=1)).get_group(j).sort_values(by=['total_points'], ascending=False)[:num]\n",
    "\n",
    "#         y_true_list = []\n",
    "#         for i in y_true_group.iterrows():\n",
    "#             y_true_list.append([i[0][0]])\n",
    "\n",
    "#         count = 0\n",
    "#         for i in y_pred_group.iterrows():\n",
    "#             if [i[0][0]] in y_true_list:\n",
    "#                 count += 1\n",
    "\n",
    "        gw_prec_score[j] = score\n",
    "\n",
    "    return gw_prec_score\n"
   ]
  },
  {
   "cell_type": "markdown",
   "metadata": {},
   "source": [
    "# Test all models for all positions:"
   ]
  },
  {
   "cell_type": "markdown",
   "metadata": {},
   "source": [
    "## Defining all features, explicit, implicit, and past history"
   ]
  },
  {
   "cell_type": "markdown",
   "metadata": {},
   "source": [
    "### Selecting Features\n",
    "Based upon game analysis and point score as given by Fantasy Premier League website, we came up with a set of features for each category of players. We divide our data into set of explicit, implicit and global history features.\n",
    "1. Explicit Features are features that can directly be calculated from the gameplay. These include bunch of positive and negative features for each player: \n",
    "    For forwards, features such as assists, goals_scored, tackled, missed penalties.\n",
    "    For midfielders, assists, big_chances_created, completed_passes, dribbles, goals_scored, key_passes\n",
    "    Defender: clean_sheets, clearances_blocks_interceptions, own_goals \n",
    "    Goalkeeper: Saves, clean_sheets.\n",
    "    Furthur, some features like minutes, fouls are taken for every position of players.\n",
    "\n",
    "2. Implicit features are subjective features that are calculated by Fantasy Premier League website. This include bonus points given to each player based on his performance. Also, features such as player influence, creativity and threat are some of implicit features\n",
    "\n",
    "3. Player past history is taken into account as global feature. This feature selects players based on past performances only."
   ]
  },
  {
   "cell_type": "code",
   "execution_count": 255,
   "metadata": {},
   "outputs": [],
   "source": [
    "fwd_features = ['assists', 'big_chances_missed', 'dribbles', 'penalties_missed',\n",
    "                'goals_scored', 'minutes', 'tackled', \n",
    "                'target_missed']\n",
    "\n",
    "mid_features = ['assists', 'big_chances_created', 'completed_passes', 'dribbles', 'fouls', \n",
    "                'goals_scored', 'key_passes', 'minutes', 'open_play_crosses', \n",
    "                'tackled', 'value']\n",
    "\n",
    "def_features = ['clean_sheets', 'clearances_blocks_interceptions',\n",
    "               'errors_leading_to_goal',\n",
    "               'goals_conceded', 'minutes', 'own_goals', 'tackles']\n",
    "\n",
    "glk_features = ['clean_sheets',\n",
    "               'fouls', 'goals_conceded', 'minutes', 'own_goals', 'penalties_conceded',\n",
    "               'penalties_saved', 'saves', 'value']\n",
    "\n",
    "\n",
    "\n",
    "fwd_implicit_features = ['bonus', 'bps', 'creativity', 'threat']\n",
    "mid_implicit_features = ['bonus', 'ict_index', 'creativity']\n",
    "def_implicit_features = ['bonus', 'influence']\n",
    "glk_implicit_features = ['bonus', 'bps', 'ict_index']\n",
    "\n",
    "past_history_features = ['history_points']\n"
   ]
  },
  {
   "cell_type": "code",
   "execution_count": 199,
   "metadata": {},
   "outputs": [],
   "source": [
    "from sklearn import preprocessing\n",
    "normalizer = preprocessing.Normalizer()\n",
    "\n",
    "\n",
    "def get_X_train_X_test_from_features_fwd(features):\n",
    "    X_train_players_fwd_avg_temp_df = X_train_players_fwd_avg_df[features]\n",
    "    X_test_players_fwd_gw_temp_df = X_test_players_fwd_gw_df[features]\n",
    "    X_train_players_fwd_avg_norm_df = X_train_players_fwd_avg_temp_df.apply(lambda x: (x - x.min()) / (x.max() - x.min()))\n",
    "    X_test_players_fwd_gw_norm_df = X_test_players_fwd_gw_temp_df.apply(lambda x: (x - x.min()) / (x.max() - x.min()))\n",
    "    return X_train_players_fwd_avg_norm_df, X_test_players_fwd_gw_norm_df\n",
    "    \n",
    "    \n",
    "def get_X_train_X_test_from_features_mid(features):\n",
    "    X_train_players_mid_avg_temp_df = X_train_players_mid_avg_df[features]\n",
    "    X_test_players_mid_gw_temp_df = X_test_players_mid_gw_df[features]\n",
    "    X_train_players_mid_avg_norm_df = X_train_players_mid_avg_temp_df.apply(lambda x: (x - x.min()) / (x.max() - x.min()))\n",
    "    X_test_players_mid_gw_norm_df = X_test_players_mid_gw_temp_df.apply(lambda x: (x - x.min()) / (x.max() - x.min()))\n",
    "    return X_train_players_mid_avg_norm_df, X_test_players_mid_gw_norm_df\n",
    "\n",
    "\n",
    "\n",
    "def get_X_train_X_test_from_features_def(features):\n",
    "    X_train_players_def_avg_temp_df = X_train_players_def_avg_df[features]\n",
    "    X_test_players_def_gw_temp_df = X_test_players_def_gw_df[features]\n",
    "    X_train_players_def_avg_norm_df = X_train_players_def_avg_temp_df.apply(lambda x: (x - x.min()) / (x.max() - x.min()))\n",
    "    X_test_players_def_gw_norm_df = X_test_players_def_gw_temp_df.apply(lambda x: (x - x.min()) / (x.max() - x.min()))\n",
    "    return X_train_players_def_avg_norm_df, X_test_players_def_gw_norm_df\n",
    "    \n",
    "    \n",
    "def get_X_train_X_test_from_features_glk(features):\n",
    "    X_train_players_glk_avg_temp_df = X_train_players_glk_avg_df[features]\n",
    "    X_test_players_glk_gw_temp_df = X_test_players_glk_gw_df[features]\n",
    "    X_train_players_glk_avg_norm_df = X_train_players_glk_avg_temp_df.apply(lambda x: (x - x.min()) / (x.max() - x.min()))\n",
    "    X_test_players_glk_gw_norm_df = X_test_players_glk_gw_temp_df.apply(lambda x: (x - x.min()) / (x.max() - x.min()))\n",
    "    return X_train_players_glk_avg_norm_df, X_test_players_glk_gw_norm_df\n"
   ]
  },
  {
   "cell_type": "markdown",
   "metadata": {},
   "source": [
    "\n",
    "## Functions to obtain results for different positions:"
   ]
  },
  {
   "cell_type": "code",
   "execution_count": 200,
   "metadata": {},
   "outputs": [],
   "source": [
    "\n",
    "def get_forward_results(features):\n",
    "    \n",
    "    X_train, X_test = get_X_train_X_test_from_features_fwd(features)\n",
    "    \n",
    "    fwd_lin_precision = linear_regression(X_train, Y_train_players_fwd_avg_df, \n",
    "                                      X_test, Y_test_players_fwd_gw_df)\n",
    "    #print \"Linear regression: \", fwd_lin_precision\n",
    "\n",
    "    fwd_svm_precision = svm_model(X_train, Y_train_players_fwd_avg_df, \n",
    "                                      X_test, Y_test_players_fwd_gw_df)\n",
    "    #print \"SVM: \", fwd_svm_precision\n",
    "\n",
    "    fwd_bayesridge_precision = bayesian_ridge(X_train, Y_train_players_fwd_avg_df, \n",
    "                                      X_test, Y_test_players_fwd_gw_df)\n",
    "\n",
    "    #print \"Bayesian Ridge Regression: \", fwd_bayesridge_precision\n",
    "\n",
    "\n",
    "    fwd_svm_rank_precision, Y_pred_df = apply_ranking_svm(X_train, Y_train_players_fwd_avg_df, \n",
    "                                      X_test, Y_test_players_fwd_gw_df)\n",
    "\n",
    "    #print \"Ranking SVM: \", fwd_svm_rank_precision\n",
    "    \n",
    "    return fwd_lin_precision, fwd_svm_precision, fwd_bayesridge_precision, fwd_svm_rank_precision\n",
    "    # fwd_neural_precision = neural_network(X_train_players_fwd_avg_df, Y_train_players_fwd_avg_df, \n",
    "    #                                   X_test_players_fwd_gw_df, Y_test_players_fwd_gw_df)\n",
    "\n",
    "    # print \"Neural Networks: \", fwd_neural_precision\n",
    "\n",
    "    \n",
    "    \n",
    "def get_defender_results(features):\n",
    "    \n",
    "    X_train, X_test = get_X_train_X_test_from_features_def(features)\n",
    "    \n",
    "    def_lin_precision = linear_regression(X_train, Y_train_players_def_avg_df, \n",
    "                                      X_test, Y_test_players_def_gw_df)\n",
    "    #print \"Linear regression: \", fwd_lin_precision\n",
    "\n",
    "    def_svm_precision = svm_model(X_train, Y_train_players_def_avg_df, \n",
    "                                      X_test, Y_test_players_def_gw_df)\n",
    "    #print \"SVM: \", fwd_svm_precision\n",
    "\n",
    "    def_bayesridge_precision = bayesian_ridge(X_train, Y_train_players_def_avg_df, \n",
    "                                      X_test, Y_test_players_def_gw_df)\n",
    "\n",
    "    #print \"Bayesian Ridge Regression: \", fwd_bayesridge_precision\n",
    "\n",
    "\n",
    "    def_svm_rank_precision, Y_pred_df = apply_ranking_svm(X_train, Y_train_players_def_avg_df, \n",
    "                                      X_test, Y_test_players_def_gw_df)\n",
    "\n",
    "    #print \"Ranking SVM: \", fwd_svm_rank_precision\n",
    "    \n",
    "    return def_lin_precision, def_svm_precision, def_bayesridge_precision, def_svm_rank_precision\n",
    "    # fwd_neural_precision = neural_network(X_train_players_fwd_avg_df, Y_train_players_fwd_avg_df, \n",
    "    #                                   X_test_players_fwd_gw_df, Y_test_players_fwd_gw_df)\n",
    "\n",
    "    # print \"Neural Networks: \", fwd_neural_precision\n",
    "\n",
    "    \n",
    "    \n",
    "def get_midfielder_results(features):\n",
    "    \n",
    "    X_train, X_test = get_X_train_X_test_from_features_mid(features)\n",
    "    \n",
    "    mid_lin_precision = linear_regression(X_train, Y_train_players_mid_avg_df, \n",
    "                                      X_test, Y_test_players_mid_gw_df)\n",
    "    #print \"Linear regression: \", fwd_lin_precision\n",
    "\n",
    "    mid_svm_precision = svm_model(X_train, Y_train_players_mid_avg_df, \n",
    "                                      X_test, Y_test_players_mid_gw_df)\n",
    "    #print \"SVM: \", fwd_svm_precision\n",
    "\n",
    "    mid_bayesridge_precision = bayesian_ridge(X_train, Y_train_players_mid_avg_df, \n",
    "                                      X_test, Y_test_players_mid_gw_df)\n",
    "\n",
    "    #print \"Bayesian Ridge Regression: \", fwd_bayesridge_precision\n",
    "\n",
    "\n",
    "    mid_svm_rank_precision, Y_pred_df = apply_ranking_svm(X_train, Y_train_players_mid_avg_df, \n",
    "                                      X_test, Y_test_players_mid_gw_df)\n",
    "\n",
    "    #print \"Ranking SVM: \", fwd_svm_rank_precision\n",
    "    \n",
    "    return mid_lin_precision, mid_svm_precision, mid_bayesridge_precision, mid_svm_rank_precision\n",
    "    # fwd_neural_precision = neural_network(X_train_players_fwd_avg_df, Y_train_players_fwd_avg_df, \n",
    "    #                                   X_test_players_fwd_gw_df, Y_test_players_fwd_gw_df)\n",
    "\n",
    "    # print \"Neural Networks: \", fwd_neural_precision\n",
    "\n",
    "    \n",
    "def get_goalkeeper_results(features):\n",
    "    \n",
    "    X_train, X_test = get_X_train_X_test_from_features_glk(features)\n",
    "    #X_train.fillna(0, inplace=True)\n",
    "    X_test.fillna(0, inplace=True)\n",
    "    #Y_train_players_glk_avg_df.fillna(0)\n",
    "    #Y_test_players_glk_gw_df.fillna(0)\n",
    "    \n",
    "    glk_lin_precision = linear_regression(X_train, Y_train_players_glk_avg_df, \n",
    "                                      X_test, Y_test_players_glk_gw_df)\n",
    "    #print \"Linear regression: \", fwd_lin_precision\n",
    "\n",
    "    glk_svm_precision = svm_model(X_train, Y_train_players_glk_avg_df, \n",
    "                                      X_test, Y_test_players_glk_gw_df)\n",
    "    #print \"SVM: \", fwd_svm_precision\n",
    "\n",
    "    glk_bayesridge_precision = bayesian_ridge(X_train, Y_train_players_glk_avg_df, \n",
    "                                      X_test, Y_test_players_glk_gw_df)\n",
    "\n",
    "    #print \"Bayesian Ridge Regression: \", fwd_bayesridge_precision\n",
    "\n",
    "\n",
    "    glk_svm_rank_precision, Y_pred_df = apply_ranking_svm(X_train, Y_train_players_glk_avg_df, \n",
    "                                      X_test, Y_test_players_glk_gw_df)\n",
    "\n",
    "    #print \"Ranking SVM: \", fwd_svm_rank_precision\n",
    "    \n",
    "    return glk_lin_precision, glk_svm_precision, glk_bayesridge_precision, glk_svm_rank_precision\n",
    "    # fwd_neural_precision = neural_network(X_train_players_fwd_avg_df, Y_train_players_fwd_avg_df, \n",
    "    #                                   X_test_players_fwd_gw_df, Y_test_players_fwd_gw_df)\n",
    "\n",
    "    # print \"Neural Networks: \", fwd_neural_precision\n",
    "\n"
   ]
  },
  {
   "cell_type": "markdown",
   "metadata": {},
   "source": [
    "# Evaluation and analysis \n",
    "1. Results on different models:\n",
    "We ran 4 models on all four positions to rank players for each gameweek. Four models are Linear Regression, Bayesian Ridge Regression, SVR and Ranking SVM. Ranking SVM outperformed all other methods(Regression, Bayesian Ridge, and SVR) showing that for ranking, pairwise comparison is always better and scoring based on regression models.\n",
    "\n",
    "2. Evaluation metrics - precision:\n",
    "We use precision for top 10 players. Our predicted top 10 players in each category is compared against the actual top 10 players for that gameweek.\n",
    "\n",
    "3. Analysis:\n",
    "We furthur analysed the effect of implicit, explicit and global factors on player performance prediction. We observed that player current trend is the most important feature in predicting performance for the next gameweek. Implicit features such as ict_index offer little advantage, boosting the performance by 0.1.\n"
   ]
  },
  {
   "cell_type": "markdown",
   "metadata": {},
   "source": [
    "## Forward:"
   ]
  },
  {
   "cell_type": "code",
   "execution_count": 227,
   "metadata": {},
   "outputs": [
    {
     "name": "stdout",
     "output_type": "stream",
     "text": [
      "{6: 0.4, 7: 0.3, 8: 0.1, 9: 0.4, 10: 0.4, 11: 0.4, 12: 0.3, 13: 0.3, 14: 0.3, 15: 0.4, 16: 0.2, 17: 0.4, 18: 0.3, 19: 0.3}\n",
      "{6: 0.4, 7: 0.3, 8: 0.2, 9: 0.4, 10: 0.3, 11: 0.3, 12: 0.4, 13: 0.2, 14: 0.2, 15: 0.2, 16: 0.1, 17: 0.4, 18: 0.3, 19: 0.4}\n",
      "{6: 0.6, 7: 0.8, 8: 0.7, 9: 0.7, 10: 0.6, 11: 0.7, 12: 0.7, 13: 0.6, 14: 0.6, 15: 0.7, 16: 0.3, 17: 0.6, 18: 0.4, 19: 0.5}\n"
     ]
    }
   ],
   "source": [
    "\n",
    "lin_f1, svr_f1, bayes_ridge_f1, svm_rank_f1 = get_forward_results(fwd_features)\n",
    "\n",
    "print lin_f1\n",
    "print svr_f1\n",
    "print svm_rank_f1"
   ]
  },
  {
   "cell_type": "code",
   "execution_count": 226,
   "metadata": {},
   "outputs": [
    {
     "name": "stdout",
     "output_type": "stream",
     "text": [
      "{6: 0.4, 7: 0.3, 8: 0.1, 9: 0.4, 10: 0.4, 11: 0.4, 12: 0.3, 13: 0.3, 14: 0.3, 15: 0.3, 16: 0.2, 17: 0.4, 18: 0.3, 19: 0.3}\n",
      "{6: 0.4, 7: 0.3, 8: 0.2, 9: 0.4, 10: 0.3, 11: 0.3, 12: 0.4, 13: 0.2, 14: 0.2, 15: 0.2, 16: 0.1, 17: 0.3, 18: 0.3, 19: 0.4}\n",
      "{6: 0.6, 7: 0.9, 8: 0.7, 9: 0.7, 10: 0.6, 11: 0.8, 12: 0.8, 13: 0.7, 14: 0.5, 15: 0.7, 16: 0.3, 17: 0.6, 18: 0.5, 19: 0.6}\n"
     ]
    }
   ],
   "source": [
    "lin_f2, svr_f2, bayes_ridge_f2, svm_rank_f2 = get_forward_results(fwd_features +past_history_features)\n",
    "\n",
    "print lin_f2\n",
    "print svr_f2\n",
    "print svm_rank_f2"
   ]
  },
  {
   "cell_type": "code",
   "execution_count": 225,
   "metadata": {},
   "outputs": [
    {
     "name": "stdout",
     "output_type": "stream",
     "text": [
      "{6: 0.4, 7: 0.3, 8: 0.1, 9: 0.4, 10: 0.3, 11: 0.4, 12: 0.3, 13: 0.3, 14: 0.3, 15: 0.4, 16: 0.2, 17: 0.3, 18: 0.2, 19: 0.3}\n",
      "{6: 0.4, 7: 0.3, 8: 0.2, 9: 0.4, 10: 0.4, 11: 0.3, 12: 0.4, 13: 0.3, 14: 0.2, 15: 0.2, 16: 0.1, 17: 0.4, 18: 0.3, 19: 0.3}\n",
      "{6: 0.5, 7: 0.8, 8: 0.7, 9: 0.6, 10: 0.4, 11: 0.7, 12: 0.8, 13: 0.6, 14: 0.5, 15: 0.7, 16: 0.4, 17: 0.7, 18: 0.5, 19: 0.6}\n"
     ]
    }
   ],
   "source": [
    "lin_f3, svr_f3, bayes_ridge_f3, svm_rank_f3 = get_forward_results(fwd_features + fwd_implicit_features +past_history_features)\n",
    "\n",
    "print lin_f3\n",
    "print svr_f3\n",
    "print svm_rank_f3"
   ]
  },
  {
   "cell_type": "code",
   "execution_count": 224,
   "metadata": {},
   "outputs": [
    {
     "name": "stdout",
     "output_type": "stream",
     "text": [
      "{6: 0.4, 7: 0.3, 8: 0.1, 9: 0.4, 10: 0.3, 11: 0.4, 12: 0.3, 13: 0.3, 14: 0.3, 15: 0.4, 16: 0.2, 17: 0.3, 18: 0.2, 19: 0.3}\n",
      "{6: 0.4, 7: 0.3, 8: 0.2, 9: 0.4, 10: 0.4, 11: 0.3, 12: 0.4, 13: 0.3, 14: 0.2, 15: 0.2, 16: 0.1, 17: 0.4, 18: 0.3, 19: 0.3}\n",
      "{6: 0.4, 7: 0.8, 8: 0.7, 9: 0.6, 10: 0.5, 11: 0.7, 12: 0.8, 13: 0.6, 14: 0.6, 15: 0.7, 16: 0.4, 17: 0.6, 18: 0.5, 19: 0.6}\n"
     ]
    }
   ],
   "source": [
    "lin_f4, svr_f4, bayes_ridge_f4, svm_rank_f4 = get_forward_results(fwd_features + fwd_implicit_features)\n",
    "\n",
    "print lin_f4\n",
    "print svr_f4\n",
    "print svm_rank_f4"
   ]
  },
  {
   "cell_type": "code",
   "execution_count": 242,
   "metadata": {},
   "outputs": [
    {
     "data": {
      "image/png": "[encoded data removed]",
      "text/plain": [
       "<matplotlib.figure.Figure at 0x7fb11fcb1790>"
      ]
     },
     "metadata": {},
     "output_type": "display_data"
    }
   ],
   "source": [
    "import matplotlib.pyplot as plt\n",
    "\n",
    "gw = range(6,20)\n",
    "\n",
    "\n",
    "plt.plot(gw, svm_rank_f1.values(), 'r', label='Explicit')\n",
    "plt.plot(gw, svm_rank_f2.values(), 'b', label='+Past History')\n",
    "#plt.plot(gw, svm_rank_f4.values(), 'k', label='+Implicit')\n",
    "#plt.plot(gw, svm_rank_f3.values(), 'g', label='+Past History + Implicit') \n",
    "#svm_rank = np.array([svm_rank_f1.values(), svm_rank_f2.values(), svm_rank_f3.values(),  svm_rank_f4.values()])\n",
    "#svm_rank = np.average(svm_rank, axis=0)\n",
    "#plt.plot(gw, svm_rank, 'b', label='Mean')\n",
    "\n",
    "plt.ylabel('Precision Score')\n",
    "plt.xlabel('Gameweek')\n",
    "plt.legend(loc='lower right')\n",
    "plt.title('Forward Position Precision Scores')\n",
    "plt.ylim(0,1)\n",
    "#plt.show()\n",
    "plt.savefig('forward_precision_features.png', transparent=True)"
   ]
  },
  {
   "cell_type": "code",
   "execution_count": 243,
   "metadata": {},
   "outputs": [
    {
     "data": {
      "image/png": "[encoded data removed]",
      "text/plain": [
       "<matplotlib.figure.Figure at 0x7fb120356050>"
      ]
     },
     "metadata": {},
     "output_type": "display_data"
    }
   ],
   "source": [
    "plt.plot(gw, svm_rank_f1.values(), 'r', label='Explicit')\n",
    "#plt.plot(gw, svm_rank_f2.values(), 'b', label='+Past History')\n",
    "plt.plot(gw, svm_rank_f4.values(), 'k', label='+Implicit')\n",
    "#plt.plot(gw, svm_rank_f3.values(), 'g', label='+Past History + Implicit') \n",
    "#svm_rank = np.array([svm_rank_f1.values(), svm_rank_f2.values(), svm_rank_f3.values(),  svm_rank_f4.values()])\n",
    "#svm_rank = np.average(svm_rank, axis=0)\n",
    "#plt.plot(gw, svm_rank, 'b', label='Mean')\n",
    "\n",
    "plt.ylabel('Precision Score')\n",
    "plt.xlabel('Gameweek')\n",
    "plt.legend(loc='lower right')\n",
    "plt.title('Forward Position Precision Scores')\n",
    "plt.ylim(0,1)\n",
    "#plt.show()\n",
    "plt.savefig('forward_precision_features.png', transparent=True)"
   ]
  },
  {
   "cell_type": "code",
   "execution_count": 240,
   "metadata": {},
   "outputs": [
    {
     "data": {
      "image/png": "[encoded data removed]",
      "text/plain": [
       "<matplotlib.figure.Figure at 0x7fb1201d5e10>"
      ]
     },
     "metadata": {},
     "output_type": "display_data"
    }
   ],
   "source": [
    "import matplotlib.pyplot as plt\n",
    "\n",
    "gw = range(6,20)\n",
    "\n",
    "\n",
    "plt.plot(gw, lin_f2.values(), 'r', label='Linear Regression')\n",
    "plt.plot(gw, svr_f2.values(), 'b', label='SVR')  \n",
    "plt.plot(gw, svm_rank_f2.values(), 'g', label='Ranking SVM') \n",
    "plt.ylabel('Precision Score')\n",
    "plt.xlabel('Gameweek')\n",
    "plt.legend(loc='lower right')\n",
    "plt.title('Forward Position Precision Scores')\n",
    "plt.ylim(0,1)\n",
    "#plt.show()\n",
    "plt.savefig('forward_precision.png', transparent=True)"
   ]
  },
  {
   "cell_type": "markdown",
   "metadata": {},
   "source": [
    "# Defender:"
   ]
  },
  {
   "cell_type": "code",
   "execution_count": 256,
   "metadata": {},
   "outputs": [
    {
     "name": "stdout",
     "output_type": "stream",
     "text": [
      "{6: 0.2, 7: 0.2, 8: 0.1, 9: 0.1, 10: 0.2, 11: 0.2, 12: 0.2, 13: 0.1, 14: 0.0, 15: 0.0, 16: 0.1, 17: 0.2, 18: 0.3, 19: 0.0}\n",
      "{6: 0.2, 7: 0.1, 8: 0.1, 9: 0.2, 10: 0.2, 11: 0.1, 12: 0.1, 13: 0.0, 14: 0.0, 15: 0.0, 16: 0.0, 17: 0.2, 18: 0.2, 19: 0.0}\n",
      "{6: 0.4, 7: 0.5, 8: 0.5, 9: 0.7, 10: 0.5, 11: 0.5, 12: 0.4, 13: 0.4, 14: 0.5, 15: 0.5, 16: 0.5, 17: 0.2, 18: 0.0, 19: 0.6}\n"
     ]
    }
   ],
   "source": [
    "\n",
    "lin_f1, svr_f1, bayes_ridge_f1, svm_rank_f1 = get_defender_results(def_features)\n",
    "\n",
    "print lin_f1\n",
    "print svr_f1\n",
    "print svm_rank_f1\n",
    "\n",
    "# def_neural_precision = neural_network(X_train_players_def_avg_df, Y_train_players_def_avg_df, \n",
    "#                                   X_test_players_def_gw_df, Y_test_players_def_gw_df)\n",
    "\n",
    "# print \"Neural Networks: \", def_neural_precision\n"
   ]
  },
  {
   "cell_type": "code",
   "execution_count": 257,
   "metadata": {},
   "outputs": [
    {
     "name": "stdout",
     "output_type": "stream",
     "text": [
      "{6: 0.1, 7: 0.2, 8: 0.1, 9: 0.2, 10: 0.2, 11: 0.2, 12: 0.2, 13: 0.1, 14: 0.0, 15: 0.0, 16: 0.0, 17: 0.2, 18: 0.2, 19: 0.0}\n",
      "{6: 0.2, 7: 0.1, 8: 0.2, 9: 0.2, 10: 0.2, 11: 0.2, 12: 0.1, 13: 0.0, 14: 0.0, 15: 0.0, 16: 0.0, 17: 0.2, 18: 0.2, 19: 0.0}\n",
      "{6: 0.4, 7: 0.5, 8: 0.5, 9: 0.7, 10: 0.6, 11: 0.7, 12: 0.3, 13: 0.4, 14: 0.5, 15: 0.4, 16: 0.4, 17: 0.2, 18: 0.2, 19: 0.6}\n"
     ]
    }
   ],
   "source": [
    "lin_f2, svr_f2, bayes_ridge_f2, svm_rank_f2 = get_defender_results(def_features +past_history_features)\n",
    "\n",
    "print lin_f2\n",
    "print svr_f2\n",
    "print svm_rank_f2"
   ]
  },
  {
   "cell_type": "code",
   "execution_count": 258,
   "metadata": {},
   "outputs": [
    {
     "name": "stdout",
     "output_type": "stream",
     "text": [
      "{6: 0.0, 7: 0.1, 8: 0.2, 9: 0.2, 10: 0.2, 11: 0.1, 12: 0.0, 13: 0.1, 14: 0.1, 15: 0.0, 16: 0.0, 17: 0.2, 18: 0.2, 19: 0.1}\n",
      "{6: 0.3, 7: 0.2, 8: 0.1, 9: 0.2, 10: 0.1, 11: 0.2, 12: 0.1, 13: 0.1, 14: 0.0, 15: 0.0, 16: 0.0, 17: 0.2, 18: 0.1, 19: 0.1}\n",
      "{6: 0.4, 7: 0.4, 8: 0.4, 9: 0.7, 10: 0.6, 11: 0.6, 12: 0.4, 13: 0.5, 14: 0.5, 15: 0.4, 16: 0.5, 17: 0.1, 18: 0.2, 19: 0.7}\n"
     ]
    }
   ],
   "source": [
    "lin_f3, svr_f3, bayes_ridge_f3, svm_rank_f3 = get_defender_results(def_features + def_implicit_features +past_history_features)\n",
    "\n",
    "print lin_f3\n",
    "print svr_f3\n",
    "print svm_rank_f3"
   ]
  },
  {
   "cell_type": "code",
   "execution_count": 259,
   "metadata": {},
   "outputs": [
    {
     "name": "stdout",
     "output_type": "stream",
     "text": [
      "{6: 0.0, 7: 0.1, 8: 0.2, 9: 0.2, 10: 0.2, 11: 0.1, 12: 0.0, 13: 0.1, 14: 0.1, 15: 0.0, 16: 0.0, 17: 0.2, 18: 0.2, 19: 0.1}\n",
      "{6: 0.2, 7: 0.1, 8: 0.1, 9: 0.1, 10: 0.1, 11: 0.2, 12: 0.1, 13: 0.1, 14: 0.0, 15: 0.0, 16: 0.0, 17: 0.2, 18: 0.1, 19: 0.1}\n",
      "{6: 0.5, 7: 0.5, 8: 0.4, 9: 0.7, 10: 0.5, 11: 0.6, 12: 0.5, 13: 0.5, 14: 0.4, 15: 0.5, 16: 0.4, 17: 0.2, 18: 0.3, 19: 0.7}\n"
     ]
    }
   ],
   "source": [
    "lin_f4, svr_f4, bayes_ridge_f4, svm_rank_f4 = get_defender_results(def_features + def_implicit_features)\n",
    "\n",
    "print lin_f4\n",
    "print svr_f4\n",
    "print svm_rank_f4"
   ]
  },
  {
   "cell_type": "code",
   "execution_count": 262,
   "metadata": {},
   "outputs": [
    {
     "data": {
      "image/png": "[encoded data removed]",
      "text/plain": [
       "<matplotlib.figure.Figure at 0x7fb1091a2790>"
      ]
     },
     "metadata": {},
     "output_type": "display_data"
    }
   ],
   "source": [
    "import matplotlib.pyplot as plt\n",
    "\n",
    "gw = range(6,20)\n",
    "\n",
    "\n",
    "plt.plot(gw, svm_rank_f1.values(), 'r', label='Explicit')\n",
    "plt.plot(gw, svm_rank_f2.values(), 'b', label='+Past History')\n",
    "#plt.plot(gw, svm_rank_f4.values(), 'k', label='+Implicit')\n",
    "#plt.plot(gw, svm_rank_f3.values(), 'g', label='+Past History + Implicit') \n",
    "#svm_rank = np.array([svm_rank_f1.values(), svm_rank_f2.values(), svm_rank_f3.values(),  svm_rank_f4.values()])\n",
    "#svm_rank = np.average(svm_rank, axis=0)\n",
    "#plt.plot(gw, svm_rank, 'b', label='Mean')\n",
    "\n",
    "plt.ylabel('Precision Score')\n",
    "plt.xlabel('Gameweek')\n",
    "plt.legend(loc='lower right')\n",
    "plt.title('Defender Position Precision Scores')\n",
    "plt.ylim(0,1)\n",
    "#plt.show()\n",
    "plt.savefig('defender_precision_features.png', transparent=True)\n"
   ]
  },
  {
   "cell_type": "code",
   "execution_count": 264,
   "metadata": {},
   "outputs": [
    {
     "data": {
      "image/png": "[encoded data removed]",
      "text/plain": [
       "<matplotlib.figure.Figure at 0x7fb109a07050>"
      ]
     },
     "metadata": {},
     "output_type": "display_data"
    }
   ],
   "source": [
    "plt.plot(gw, lin_f1.values(), 'r', label='Linear Regression')\n",
    "plt.plot(gw, bayes_ridge_f1.values(), 'b', label='Bayesian Ridge')  \n",
    "plt.plot(gw, svm_rank_f1.values(), 'g', label='Ranking SVM') \n",
    "plt.ylabel('Precision Score')\n",
    "plt.xlabel('Gameweek')\n",
    "plt.legend(loc='lower right')\n",
    "plt.title('Defender Position Precision Scores')\n",
    "#plt.show()\n",
    "plt.ylim(0,0.8)\n",
    "plt.savefig('defender_precision.png')"
   ]
  },
  {
   "cell_type": "markdown",
   "metadata": {},
   "source": [
    "# Goalkeeper:"
   ]
  },
  {
   "cell_type": "code",
   "execution_count": 265,
   "metadata": {},
   "outputs": [
    {
     "name": "stdout",
     "output_type": "stream",
     "text": [
      "{6: 0.5, 7: 0.5, 8: 0.5, 9: 0.4, 10: 0.4, 11: 0.6, 12: 0.5, 13: 0.6, 14: 0.3, 15: 0.2, 16: 0.6, 17: 0.4, 18: 0.5, 19: 0.5}\n",
      "{6: 0.4, 7: 0.5, 8: 0.7, 9: 0.4, 10: 0.4, 11: 0.5, 12: 0.7, 13: 0.6, 14: 0.4, 15: 0.1, 16: 0.6, 17: 0.3, 18: 0.6, 19: 0.5}\n",
      "{6: 0.6, 7: 0.2, 8: 0.6, 9: 0.7, 10: 0.8, 11: 0.7, 12: 0.6, 13: 0.8, 14: 0.6, 15: 0.6, 16: 0.7, 17: 0.7, 18: 0.5, 19: 0.6}\n"
     ]
    }
   ],
   "source": [
    "\n",
    "lin_f1, svr_f1, bayes_ridge_f1, svm_rank_f1 = get_goalkeeper_results(glk_features)\n",
    "\n",
    "print lin_f1\n",
    "print svr_f1\n",
    "print svm_rank_f1\n"
   ]
  },
  {
   "cell_type": "code",
   "execution_count": 266,
   "metadata": {},
   "outputs": [
    {
     "name": "stdout",
     "output_type": "stream",
     "text": [
      "{6: 0.5, 7: 0.5, 8: 0.5, 9: 0.4, 10: 0.4, 11: 0.6, 12: 0.5, 13: 0.6, 14: 0.3, 15: 0.2, 16: 0.6, 17: 0.4, 18: 0.5, 19: 0.5}\n",
      "{6: 0.4, 7: 0.5, 8: 0.7, 9: 0.3, 10: 0.4, 11: 0.5, 12: 0.6, 13: 0.7, 14: 0.4, 15: 0.1, 16: 0.5, 17: 0.4, 18: 0.6, 19: 0.5}\n",
      "{6: 0.7, 7: 0.2, 8: 0.6, 9: 0.7, 10: 0.8, 11: 0.8, 12: 0.6, 13: 0.7, 14: 0.6, 15: 0.7, 16: 0.7, 17: 0.8, 18: 0.6, 19: 0.6}\n"
     ]
    }
   ],
   "source": [
    "\n",
    "lin_f2, svr_f2, bayes_ridge_f2, svm_rank_f2 = get_goalkeeper_results(glk_features +past_history_features)\n",
    "\n",
    "print lin_f2\n",
    "print svr_f2\n",
    "print svm_rank_f2"
   ]
  },
  {
   "cell_type": "code",
   "execution_count": 267,
   "metadata": {},
   "outputs": [
    {
     "name": "stdout",
     "output_type": "stream",
     "text": [
      "{6: 0.4, 7: 0.5, 8: 0.5, 9: 0.5, 10: 0.4, 11: 0.6, 12: 0.6, 13: 0.6, 14: 0.4, 15: 0.2, 16: 0.6, 17: 0.4, 18: 0.5, 19: 0.4}\n",
      "{6: 0.5, 7: 0.5, 8: 0.7, 9: 0.4, 10: 0.4, 11: 0.6, 12: 0.6, 13: 0.7, 14: 0.4, 15: 0.2, 16: 0.6, 17: 0.4, 18: 0.6, 19: 0.5}\n",
      "{6: 0.6, 7: 0.3, 8: 0.6, 9: 0.6, 10: 0.8, 11: 0.8, 12: 0.5, 13: 0.8, 14: 0.6, 15: 0.7, 16: 0.7, 17: 0.6, 18: 0.5, 19: 0.6}\n"
     ]
    }
   ],
   "source": [
    "\n",
    "\n",
    "lin_f3, svr_f3, bayes_ridge_f3, svm_rank_f3 = get_goalkeeper_results(glk_features + glk_implicit_features +past_history_features)\n",
    "\n",
    "print lin_f3\n",
    "print svr_f3\n",
    "print svm_rank_f3"
   ]
  },
  {
   "cell_type": "code",
   "execution_count": 268,
   "metadata": {},
   "outputs": [
    {
     "name": "stdout",
     "output_type": "stream",
     "text": [
      "{6: 0.4, 7: 0.5, 8: 0.5, 9: 0.5, 10: 0.4, 11: 0.6, 12: 0.6, 13: 0.6, 14: 0.4, 15: 0.2, 16: 0.6, 17: 0.4, 18: 0.5, 19: 0.4}\n",
      "{6: 0.5, 7: 0.5, 8: 0.6, 9: 0.4, 10: 0.4, 11: 0.5, 12: 0.6, 13: 0.7, 14: 0.4, 15: 0.2, 16: 0.6, 17: 0.4, 18: 0.6, 19: 0.5}\n",
      "{6: 0.6, 7: 0.3, 8: 0.5, 9: 0.6, 10: 0.8, 11: 0.7, 12: 0.5, 13: 0.7, 14: 0.6, 15: 0.6, 16: 0.7, 17: 0.6, 18: 0.5, 19: 0.7}\n"
     ]
    }
   ],
   "source": [
    "\n",
    "lin_f4, svr_f4, bayes_ridge_f4, svm_rank_f4 = get_goalkeeper_results(glk_features + glk_implicit_features)\n",
    "\n",
    "print lin_f4\n",
    "print svr_f4\n",
    "print svm_rank_f4"
   ]
  },
  {
   "cell_type": "code",
   "execution_count": 273,
   "metadata": {},
   "outputs": [
    {
     "data": {
      "image/png": "[encoded data removed]",
      "text/plain": [
       "<matplotlib.figure.Figure at 0x7fb1086fded0>"
      ]
     },
     "metadata": {},
     "output_type": "display_data"
    }
   ],
   "source": [
    "plt.plot(gw, svm_rank_f1.values(), 'r', label='Explicit')\n",
    "#plt.plot(gw, svm_rank_f2.values(), 'b', label='+Past History')\n",
    "#plt.plot(gw, svm_rank_f4.values(), 'k', label='+Implicit')\n",
    "plt.plot(gw, svm_rank_f3.values(), 'g', label='+Past History + Implicit') \n",
    "#svm_rank = np.array([svm_rank_f1.values(), svm_rank_f2.values(), svm_rank_f3.values(),  svm_rank_f4.values()])\n",
    "#svm_rank = np.average(svm_rank, axis=0)\n",
    "#plt.plot(gw, svm_rank, 'b', label='Mean')\n",
    "\n",
    "plt.ylabel('Precision Score')\n",
    "plt.xlabel('Gameweek')\n",
    "plt.legend(loc='lower right')\n",
    "plt.title('Goalkeeper Position Precision Scores')\n",
    "plt.ylim(0,1)\n",
    "#plt.show()\n",
    "plt.savefig('goalkeeper_precision_features.png', transparent=True)"
   ]
  },
  {
   "cell_type": "code",
   "execution_count": 276,
   "metadata": {},
   "outputs": [
    {
     "data": {
      "image/png": "[encoded data removed]",
      "text/plain": [
       "<matplotlib.figure.Figure at 0x7fb1202b0150>"
      ]
     },
     "metadata": {},
     "output_type": "display_data"
    }
   ],
   "source": [
    "plt.plot(gw, lin_f2.values(), 'r', label='Linear Regression')\n",
    "plt.plot(gw, bayes_ridge_f2.values(), 'b', label='Bayesian Ridge')  \n",
    "plt.plot(gw, svm_rank_f2.values(), 'g', label='Ranking SVM') \n",
    "plt.ylabel('Precision Score')\n",
    "plt.xlabel('Gameweek')\n",
    "plt.legend(loc='lower right')\n",
    "plt.title('Goalkeeper Position Precision Scores')\n",
    "#plt.show()\n",
    "plt.ylim(0,1)\n",
    "plt.savefig('goalkeeper_precision_1.png')"
   ]
  },
  {
   "cell_type": "markdown",
   "metadata": {},
   "source": [
    "# Midfielder:"
   ]
  },
  {
   "cell_type": "code",
   "execution_count": 277,
   "metadata": {},
   "outputs": [
    {
     "name": "stdout",
     "output_type": "stream",
     "text": [
      "{6: 0.3, 7: 0.1, 8: 0.3, 9: 0.1, 10: 0.1, 11: 0.3, 12: 0.2, 13: 0.2, 14: 0.4, 15: 0.2, 16: 0.1, 17: 0.1, 18: 0.3, 19: 0.2}\n",
      "{6: 0.4, 7: 0.2, 8: 0.3, 9: 0.2, 10: 0.1, 11: 0.4, 12: 0.4, 13: 0.2, 14: 0.4, 15: 0.2, 16: 0.1, 17: 0.2, 18: 0.3, 19: 0.2}\n",
      "{6: 0.5, 7: 0.4, 8: 0.3, 9: 0.1, 10: 0.2, 11: 0.6, 12: 0.3, 13: 0.5, 14: 0.4, 15: 0.5, 16: 0.3, 17: 0.4, 18: 0.6, 19: 0.6}\n",
      "{6: 0.3, 7: 0.1, 8: 0.3, 9: 0.1, 10: 0.1, 11: 0.3, 12: 0.2, 13: 0.2, 14: 0.4, 15: 0.2, 16: 0.1, 17: 0.1, 18: 0.3, 19: 0.2}\n",
      "{6: 0.4, 7: 0.1, 8: 0.3, 9: 0.2, 10: 0.1, 11: 0.3, 12: 0.3, 13: 0.2, 14: 0.4, 15: 0.2, 16: 0.1, 17: 0.2, 18: 0.3, 19: 0.2}\n",
      "{6: 0.5, 7: 0.5, 8: 0.3, 9: 0.1, 10: 0.2, 11: 0.6, 12: 0.3, 13: 0.5, 14: 0.4, 15: 0.6, 16: 0.3, 17: 0.4, 18: 0.6, 19: 0.6}\n",
      "{6: 0.3, 7: 0.1, 8: 0.3, 9: 0.1, 10: 0.1, 11: 0.3, 12: 0.2, 13: 0.2, 14: 0.3, 15: 0.2, 16: 0.1, 17: 0.2, 18: 0.3, 19: 0.2}\n",
      "{6: 0.4, 7: 0.2, 8: 0.2, 9: 0.1, 10: 0.1, 11: 0.2, 12: 0.3, 13: 0.2, 14: 0.4, 15: 0.2, 16: 0.1, 17: 0.3, 18: 0.3, 19: 0.2}\n",
      "{6: 0.5, 7: 0.6, 8: 0.4, 9: 0.2, 10: 0.3, 11: 0.6, 12: 0.4, 13: 0.5, 14: 0.4, 15: 0.6, 16: 0.3, 17: 0.4, 18: 0.5, 19: 0.6}\n",
      "{6: 0.3, 7: 0.1, 8: 0.3, 9: 0.1, 10: 0.1, 11: 0.3, 12: 0.2, 13: 0.2, 14: 0.3, 15: 0.2, 16: 0.1, 17: 0.2, 18: 0.3, 19: 0.2}\n",
      "{6: 0.3, 7: 0.2, 8: 0.2, 9: 0.1, 10: 0.1, 11: 0.2, 12: 0.3, 13: 0.2, 14: 0.4, 15: 0.2, 16: 0.1, 17: 0.2, 18: 0.3, 19: 0.2}\n",
      "{6: 0.5, 7: 0.6, 8: 0.4, 9: 0.2, 10: 0.3, 11: 0.6, 12: 0.3, 13: 0.5, 14: 0.4, 15: 0.6, 16: 0.3, 17: 0.4, 18: 0.5, 19: 0.5}\n"
     ]
    }
   ],
   "source": [
    "\n",
    "lin_f1, svr_f1, bayes_ridge_f1, svm_rank_f1 = get_midfielder_results(mid_features)\n",
    "\n",
    "print lin_f1\n",
    "print svr_f1\n",
    "print svm_rank_f1\n",
    "\n",
    "\n",
    "\n",
    "lin_f2, svr_f2, bayes_ridge_f2, svm_rank_f2 = get_midfielder_results(mid_features +past_history_features)\n",
    "\n",
    "print lin_f2\n",
    "print svr_f2\n",
    "print svm_rank_f2\n",
    "\n",
    "\n",
    "\n",
    "lin_f3, svr_f3, bayes_ridge_f3, svm_rank_f3 = get_midfielder_results(mid_features + mid_implicit_features +past_history_features)\n",
    "\n",
    "print lin_f3\n",
    "print svr_f3\n",
    "print svm_rank_f3\n",
    "\n",
    "\n",
    "lin_f4, svr_f4, bayes_ridge_f4, svm_rank_f4 = get_midfielder_results(mid_features + mid_implicit_features)\n",
    "\n",
    "print lin_f4\n",
    "print svr_f4\n",
    "print svm_rank_f4\n",
    "\n",
    "\n"
   ]
  },
  {
   "cell_type": "code",
   "execution_count": 283,
   "metadata": {},
   "outputs": [
    {
     "data": {
      "image/png": "[encoded data removed]",
      "text/plain": [
       "<matplotlib.figure.Figure at 0x7fb109aff750>"
      ]
     },
     "metadata": {},
     "output_type": "display_data"
    }
   ],
   "source": [
    "plt.plot(gw, svm_rank_f1.values(), 'r', label='Explicit')\n",
    "#plt.plot(gw, svm_rank_f2.values(), 'b', label='+Past History')\n",
    "#plt.plot(gw, svm_rank_f4.values(), 'k', label='+Implicit')\n",
    "plt.plot(gw, svm_rank_f3.values(), 'g', label='+Past History + Implicit') \n",
    "#svm_rank = np.array([svm_rank_f1.values(), svm_rank_f2.values(), svm_rank_f3.values(),  svm_rank_f4.values()])\n",
    "#svm_rank = np.average(svm_rank, axis=0)\n",
    "#plt.plot(gw, svm_rank, 'b', label='Mean')\n",
    "\n",
    "plt.ylabel('Precision Score')\n",
    "plt.xlabel('Gameweek')\n",
    "plt.legend(loc='lower right')\n",
    "plt.title('Midfielder Position Precision Scores')\n",
    "plt.ylim(0,0.8)\n",
    "#plt.show()\n",
    "plt.savefig('midfielder_precision_features.png', transparent=True)"
   ]
  },
  {
   "cell_type": "code",
   "execution_count": 284,
   "metadata": {},
   "outputs": [
    {
     "data": {
      "image/png": "[encoded data removed]",
      "text/plain": [
       "<matplotlib.figure.Figure at 0x7fb1202c6b10>"
      ]
     },
     "metadata": {},
     "output_type": "display_data"
    }
   ],
   "source": [
    "plt.plot(gw, lin_f2.values(), 'r', label='Linear Regression')\n",
    "plt.plot(gw, bayes_ridge_f2.values(), 'b', label='Bayesian Ridge')  \n",
    "plt.plot(gw, svm_rank_f2.values(), 'g', label='Ranking SVM') \n",
    "plt.ylabel('Precision Score')\n",
    "plt.xlabel('Gameweek')\n",
    "plt.legend(loc='lower right')\n",
    "plt.title('Midfielder Position Precision Scores')\n",
    "# plt.show()\n",
    "plt.ylim(0,0.8)\n",
    "plt.savefig('midfielder_precision.png')"
   ]
  },
  {
   "cell_type": "markdown",
   "metadata": {},
   "source": [
    "## Result and Discussion:\n",
    "We observe that:\n",
    "1. Ranking SVM outperformed all other factors by a significant amount, reaching 0.9 precision in some gameweeks.\n",
    "2. Player's past history gives a slight improvement over only current trend, giving more score to players who are currently not in form but have been phenomenal in the past.\n",
    "3. Implicit factors give slight improvement over explicit, though not over all gameweeks.\n",
    "\n",
    "<img src=\"resultsweek6.png\">"
   ]
  },
  {
   "cell_type": "markdown",
   "metadata": {},
   "source": [
    "## Key Takeaways - \n",
    "\n",
    "1. Ranking svm performed better as compared to regression and svr it computes pairwise performance.\n",
    "2. Player past performance improves performance slightly. If a good player is not performing in recent games, still due to his past performance, he will not lose all points."
   ]
  },
  {
   "cell_type": "markdown",
   "metadata": {},
   "source": [
    "# Conclusions\n",
    "\n",
    "Challenges:\n",
    "1. Fantasy premier league website only provides the current data of the players. Extracting the data for past seasons was quite challenging. Any single source of data didn't suffice, due to which we had to extract data from multiple sources providing information of different Features for players like Teams and Positions.\n",
    "2. Player name different and contained special characters, had to be handled. \n",
    "3. Understanding and tuning features for each category of players, for example, for forward position we considered features like goals scored and assists as most important features. Features like ict index, which is a combination of player's influence, creativity and threat also play a major role in player ranking.\n",
    "\n",
    "\n",
    "In future, our model can be extended to provide complete manager module, which can recommend optimal players in case of:\n",
    "1. Substitutions - In the game which three players can be substituted to optimize the team\n",
    "2. Injuries - In case of injuries, who is the most \"similar\" player to replace the injured player\n",
    "3. Transfers - which player(s) from other teams can be bought to improve the team performance in the future season\n",
    "\n",
    "Also, in future we plan to use neural models and deep learning to learn hidden features and analyse their effects on precision of results.\n",
    "\n",
    "Open issues:\n",
    "1. Dataset is only available for 2016-17 season, for better results more data is required.\n"
   ]
  },
  {
   "cell_type": "markdown",
   "metadata": {},
   "source": [
    "# Ethical Issues -\n",
    "\n",
    "1. This tool, though not intended to, but may indirectly encourage people to gamble.\n",
    "2. destroy the spirit of this beautiful game. This tool stands to provide a better recommendation for substitutions than existing recommendations available on Fantasy Premier League site and in no way effect the spirit of the sports.\n",
    "3. While the tool aims to have no biases towards player performances, it tends to select players based on recent performances and their data, which is detrimental to new players."
   ]
  },
  {
   "cell_type": "markdown",
   "metadata": {},
   "source": [
    "# Form Team"
   ]
  },
  {
   "cell_type": "markdown",
   "metadata": {},
   "source": [
    "We also provide team recommendation to user modelling the problem as a linear programming one. The user can pick 2 goalkeepers, 5 midfielders, 5 defenders, and 3 forwards, picking a total of 15 players. Also, the prices of players must not exceed a certain budget. Furthur, no more than 3 players can be from the same team. We use a LPU solver and put all the constraints as optimization equations. Finally, list of players is obtained which is recommended as a team to user.\n",
    "Reference : http://www.philipkalinda.com/ds9.html"
   ]
  },
  {
   "cell_type": "code",
   "execution_count": 288,
   "metadata": {},
   "outputs": [
    {
     "name": "stdout",
     "output_type": "stream",
     "text": [
      "['Wilfried_Bony', 41]\n"
     ]
    }
   ],
   "source": [
    "#player_cost_df = pd.read_csv('data/player_cost.csv')\n",
    "X_train, X_test = get_X_train_X_test_from_features_fwd(fwd_features + fwd_implicit_features + past_history_features)\n",
    "    \n",
    "fwd_svm_rank_precision, gw_fwd_playerslist = apply_ranking_svm(X_train, Y_train_players_fwd_avg_df, \n",
    "                                                      X_test, Y_test_players_fwd_gw_df)\n",
    "\n"
   ]
  },
  {
   "cell_type": "code",
   "execution_count": 294,
   "metadata": {},
   "outputs": [
    {
     "name": "stdout",
     "output_type": "stream",
     "text": [
      "[['Wilfried_Bony', 41], ['Harry_Kane', 40], ['Andre_Gray', 39], ['Daniel_Sturridge', 39], ['Joshua_King', 39], ['Alvaro_Morata', 39], ['Jamie_Vardy', 38], ['Shinji_Okazaki', 38], ['Hal_Robson-Kanu', 37], ['Sergio_Aguero', 37]]\n"
     ]
    }
   ],
   "source": [
    "print gw_fwd_playerslist[6]\n"
   ]
  },
  {
   "cell_type": "code",
   "execution_count": 295,
   "metadata": {},
   "outputs": [],
   "source": [
    "X_train, X_test = get_X_train_X_test_from_features_mid(mid_features + mid_implicit_features + past_history_features)\n",
    "    \n",
    "mid_svm_rank_precision, gw_mid_playerslist = apply_ranking_svm(X_train, Y_train_players_mid_avg_df, \n",
    "                                                      X_test, Y_test_players_mid_gw_df)\n",
    "\n",
    "\n",
    "\n",
    "X_train, X_test = get_X_train_X_test_from_features_def(def_features + def_implicit_features + past_history_features)\n",
    "    \n",
    "def_svm_rank_precision, gw_def_playerslist = apply_ranking_svm(X_train, Y_train_players_def_avg_df, \n",
    "                                                      X_test, Y_test_players_def_gw_df)\n",
    "\n",
    "\n",
    "X_train, X_test = get_X_train_X_test_from_features_glk(glk_features + glk_implicit_features + past_history_features)\n",
    "X_test.fillna(0, inplace=True)\n",
    "glk_svm_rank_precision, gw_glk_playerslist = apply_ranking_svm(X_train, Y_train_players_glk_avg_df, \n",
    "                                                      X_test, Y_test_players_glk_gw_df)"
   ]
  },
  {
   "cell_type": "code",
   "execution_count": 296,
   "metadata": {},
   "outputs": [
    {
     "name": "stdout",
     "output_type": "stream",
     "text": [
      "[['Philippe_Coutinho', 123], ['Leroy_Sane', 122], ['Bamidele_Alli', 121], ['Alexis_Sanchez', 120], ['Dale_Stephens', 119], ['Mohamed_Salah', 119], ['Richarlison_de Andrade', 118], ['Christian_Eriksen', 117], ['Fernando_Luiz Rosa', 115], ['Jeff_Hendrick', 115]]\n",
      "[['Harry_Maguire', 99], ['Cesar_Azpilicueta', 96], ['Nacho_Monreal', 95], ['Mathias_Jorgensen', 95], ['Phil_Jones', 93], ['Danilo Luiz_da Silva', 92], ['Jeffrey_Schlupp', 92], ['Matthew_Lowton', 92], ['Serge_Aurier', 91], ['Jose_Fonte', 91]]\n",
      "[['Ben_Foster', 30], ['Mathew_Ryan', 29], ['Hugo_Lloris', 28], ['Simon_Mignolet', 27], ['Asmir_Begovic', 27], ['Lukasz_Fabianski', 27], ['Fraser_Forster', 27], ['David_de Gea', 26], ['Jordan_Pickford', 26], ['Jonas_Lossl', 26]]\n"
     ]
    }
   ],
   "source": [
    "print gw_mid_playerslist[6]\n",
    "print gw_def_playerslist[6]\n",
    "print gw_glk_playerslist[6]"
   ]
  },
  {
   "cell_type": "code",
   "execution_count": 146,
   "metadata": {},
   "outputs": [
    {
     "name": "stdout",
     "output_type": "stream",
     "text": [
      "29\n"
     ]
    }
   ],
   "source": [
    "data = pd.DataFrame(gw_glk_playerslist)\n",
    "\n",
    "print data[6][1][1]\n",
    "\n",
    "\n"
   ]
  },
  {
   "cell_type": "code",
   "execution_count": 158,
   "metadata": {},
   "outputs": [],
   "source": [
    "gw_glk_players_df = pd.DataFrame(gw_glk_playerslist)\n",
    "gw_fwd_players_df = pd.DataFrame(gw_fwd_playerslist)\n",
    "gw_mid_players_df = pd.DataFrame(gw_mid_playerslist)\n",
    "gw_def_players_df = pd.DataFrame(gw_def_playerslist)"
   ]
  },
  {
   "cell_type": "code",
   "execution_count": 159,
   "metadata": {},
   "outputs": [
    {
     "ename": "KeyError",
     "evalue": "'team'",
     "output_type": "error",
     "traceback": [
      "\u001b[0;31m---------------------------------------------------------------------------\u001b[0m",
      "\u001b[0;31mKeyError\u001b[0m                                  Traceback (most recent call last)",
      "\u001b[0;32m<ipython-input-159-0e9d1c7d38c7>\u001b[0m in \u001b[0;36m<module>\u001b[0;34m()\u001b[0m\n\u001b[0;32m----> 1\u001b[0;31m \u001b[0mplayer_info_df\u001b[0m \u001b[0;34m=\u001b[0m \u001b[0mX_test\u001b[0m\u001b[0;34m[\u001b[0m\u001b[0;34m'team'\u001b[0m\u001b[0;34m]\u001b[0m\u001b[0;34m\u001b[0m\u001b[0m\n\u001b[0m",
      "\u001b[0;32m/home/bhargava/anaconda2/envs/cs670/lib/python2.7/site-packages/pandas/core/frame.pyc\u001b[0m in \u001b[0;36m__getitem__\u001b[0;34m(self, key)\u001b[0m\n\u001b[1;32m   2137\u001b[0m             \u001b[0;32mreturn\u001b[0m \u001b[0mself\u001b[0m\u001b[0;34m.\u001b[0m\u001b[0m_getitem_multilevel\u001b[0m\u001b[0;34m(\u001b[0m\u001b[0mkey\u001b[0m\u001b[0;34m)\u001b[0m\u001b[0;34m\u001b[0m\u001b[0m\n\u001b[1;32m   2138\u001b[0m         \u001b[0;32melse\u001b[0m\u001b[0;34m:\u001b[0m\u001b[0;34m\u001b[0m\u001b[0m\n\u001b[0;32m-> 2139\u001b[0;31m             \u001b[0;32mreturn\u001b[0m \u001b[0mself\u001b[0m\u001b[0;34m.\u001b[0m\u001b[0m_getitem_column\u001b[0m\u001b[0;34m(\u001b[0m\u001b[0mkey\u001b[0m\u001b[0;34m)\u001b[0m\u001b[0;34m\u001b[0m\u001b[0m\n\u001b[0m\u001b[1;32m   2140\u001b[0m \u001b[0;34m\u001b[0m\u001b[0m\n\u001b[1;32m   2141\u001b[0m     \u001b[0;32mdef\u001b[0m \u001b[0m_getitem_column\u001b[0m\u001b[0;34m(\u001b[0m\u001b[0mself\u001b[0m\u001b[0;34m,\u001b[0m \u001b[0mkey\u001b[0m\u001b[0;34m)\u001b[0m\u001b[0;34m:\u001b[0m\u001b[0;34m\u001b[0m\u001b[0m\n",
      "\u001b[0;32m/home/bhargava/anaconda2/envs/cs670/lib/python2.7/site-packages/pandas/core/frame.pyc\u001b[0m in \u001b[0;36m_getitem_column\u001b[0;34m(self, key)\u001b[0m\n\u001b[1;32m   2144\u001b[0m         \u001b[0;31m# get column\u001b[0m\u001b[0;34m\u001b[0m\u001b[0;34m\u001b[0m\u001b[0m\n\u001b[1;32m   2145\u001b[0m         \u001b[0;32mif\u001b[0m \u001b[0mself\u001b[0m\u001b[0;34m.\u001b[0m\u001b[0mcolumns\u001b[0m\u001b[0;34m.\u001b[0m\u001b[0mis_unique\u001b[0m\u001b[0;34m:\u001b[0m\u001b[0;34m\u001b[0m\u001b[0m\n\u001b[0;32m-> 2146\u001b[0;31m             \u001b[0;32mreturn\u001b[0m \u001b[0mself\u001b[0m\u001b[0;34m.\u001b[0m\u001b[0m_get_item_cache\u001b[0m\u001b[0;34m(\u001b[0m\u001b[0mkey\u001b[0m\u001b[0;34m)\u001b[0m\u001b[0;34m\u001b[0m\u001b[0m\n\u001b[0m\u001b[1;32m   2147\u001b[0m \u001b[0;34m\u001b[0m\u001b[0m\n\u001b[1;32m   2148\u001b[0m         \u001b[0;31m# duplicate columns & possible reduce dimensionality\u001b[0m\u001b[0;34m\u001b[0m\u001b[0;34m\u001b[0m\u001b[0m\n",
      "\u001b[0;32m/home/bhargava/anaconda2/envs/cs670/lib/python2.7/site-packages/pandas/core/generic.pyc\u001b[0m in \u001b[0;36m_get_item_cache\u001b[0;34m(self, item)\u001b[0m\n\u001b[1;32m   1840\u001b[0m         \u001b[0mres\u001b[0m \u001b[0;34m=\u001b[0m \u001b[0mcache\u001b[0m\u001b[0;34m.\u001b[0m\u001b[0mget\u001b[0m\u001b[0;34m(\u001b[0m\u001b[0mitem\u001b[0m\u001b[0;34m)\u001b[0m\u001b[0;34m\u001b[0m\u001b[0m\n\u001b[1;32m   1841\u001b[0m         \u001b[0;32mif\u001b[0m \u001b[0mres\u001b[0m \u001b[0;32mis\u001b[0m \u001b[0mNone\u001b[0m\u001b[0;34m:\u001b[0m\u001b[0;34m\u001b[0m\u001b[0m\n\u001b[0;32m-> 1842\u001b[0;31m             \u001b[0mvalues\u001b[0m \u001b[0;34m=\u001b[0m \u001b[0mself\u001b[0m\u001b[0;34m.\u001b[0m\u001b[0m_data\u001b[0m\u001b[0;34m.\u001b[0m\u001b[0mget\u001b[0m\u001b[0;34m(\u001b[0m\u001b[0mitem\u001b[0m\u001b[0;34m)\u001b[0m\u001b[0;34m\u001b[0m\u001b[0m\n\u001b[0m\u001b[1;32m   1843\u001b[0m             \u001b[0mres\u001b[0m \u001b[0;34m=\u001b[0m \u001b[0mself\u001b[0m\u001b[0;34m.\u001b[0m\u001b[0m_box_item_values\u001b[0m\u001b[0;34m(\u001b[0m\u001b[0mitem\u001b[0m\u001b[0;34m,\u001b[0m \u001b[0mvalues\u001b[0m\u001b[0;34m)\u001b[0m\u001b[0;34m\u001b[0m\u001b[0m\n\u001b[1;32m   1844\u001b[0m             \u001b[0mcache\u001b[0m\u001b[0;34m[\u001b[0m\u001b[0mitem\u001b[0m\u001b[0;34m]\u001b[0m \u001b[0;34m=\u001b[0m \u001b[0mres\u001b[0m\u001b[0;34m\u001b[0m\u001b[0m\n",
      "\u001b[0;32m/home/bhargava/anaconda2/envs/cs670/lib/python2.7/site-packages/pandas/core/internals.pyc\u001b[0m in \u001b[0;36mget\u001b[0;34m(self, item, fastpath)\u001b[0m\n\u001b[1;32m   3841\u001b[0m \u001b[0;34m\u001b[0m\u001b[0m\n\u001b[1;32m   3842\u001b[0m             \u001b[0;32mif\u001b[0m \u001b[0;32mnot\u001b[0m \u001b[0misna\u001b[0m\u001b[0;34m(\u001b[0m\u001b[0mitem\u001b[0m\u001b[0;34m)\u001b[0m\u001b[0;34m:\u001b[0m\u001b[0;34m\u001b[0m\u001b[0m\n\u001b[0;32m-> 3843\u001b[0;31m                 \u001b[0mloc\u001b[0m \u001b[0;34m=\u001b[0m \u001b[0mself\u001b[0m\u001b[0;34m.\u001b[0m\u001b[0mitems\u001b[0m\u001b[0;34m.\u001b[0m\u001b[0mget_loc\u001b[0m\u001b[0;34m(\u001b[0m\u001b[0mitem\u001b[0m\u001b[0;34m)\u001b[0m\u001b[0;34m\u001b[0m\u001b[0m\n\u001b[0m\u001b[1;32m   3844\u001b[0m             \u001b[0;32melse\u001b[0m\u001b[0;34m:\u001b[0m\u001b[0;34m\u001b[0m\u001b[0m\n\u001b[1;32m   3845\u001b[0m                 \u001b[0mindexer\u001b[0m \u001b[0;34m=\u001b[0m \u001b[0mnp\u001b[0m\u001b[0;34m.\u001b[0m\u001b[0marange\u001b[0m\u001b[0;34m(\u001b[0m\u001b[0mlen\u001b[0m\u001b[0;34m(\u001b[0m\u001b[0mself\u001b[0m\u001b[0;34m.\u001b[0m\u001b[0mitems\u001b[0m\u001b[0;34m)\u001b[0m\u001b[0;34m)\u001b[0m\u001b[0;34m[\u001b[0m\u001b[0misna\u001b[0m\u001b[0;34m(\u001b[0m\u001b[0mself\u001b[0m\u001b[0;34m.\u001b[0m\u001b[0mitems\u001b[0m\u001b[0;34m)\u001b[0m\u001b[0;34m]\u001b[0m\u001b[0;34m\u001b[0m\u001b[0m\n",
      "\u001b[0;32m/home/bhargava/anaconda2/envs/cs670/lib/python2.7/site-packages/pandas/core/indexes/base.pyc\u001b[0m in \u001b[0;36mget_loc\u001b[0;34m(self, key, method, tolerance)\u001b[0m\n\u001b[1;32m   2525\u001b[0m                 \u001b[0;32mreturn\u001b[0m \u001b[0mself\u001b[0m\u001b[0;34m.\u001b[0m\u001b[0m_engine\u001b[0m\u001b[0;34m.\u001b[0m\u001b[0mget_loc\u001b[0m\u001b[0;34m(\u001b[0m\u001b[0mkey\u001b[0m\u001b[0;34m)\u001b[0m\u001b[0;34m\u001b[0m\u001b[0m\n\u001b[1;32m   2526\u001b[0m             \u001b[0;32mexcept\u001b[0m \u001b[0mKeyError\u001b[0m\u001b[0;34m:\u001b[0m\u001b[0;34m\u001b[0m\u001b[0m\n\u001b[0;32m-> 2527\u001b[0;31m                 \u001b[0;32mreturn\u001b[0m \u001b[0mself\u001b[0m\u001b[0;34m.\u001b[0m\u001b[0m_engine\u001b[0m\u001b[0;34m.\u001b[0m\u001b[0mget_loc\u001b[0m\u001b[0;34m(\u001b[0m\u001b[0mself\u001b[0m\u001b[0;34m.\u001b[0m\u001b[0m_maybe_cast_indexer\u001b[0m\u001b[0;34m(\u001b[0m\u001b[0mkey\u001b[0m\u001b[0;34m)\u001b[0m\u001b[0;34m)\u001b[0m\u001b[0;34m\u001b[0m\u001b[0m\n\u001b[0m\u001b[1;32m   2528\u001b[0m \u001b[0;34m\u001b[0m\u001b[0m\n\u001b[1;32m   2529\u001b[0m         \u001b[0mindexer\u001b[0m \u001b[0;34m=\u001b[0m \u001b[0mself\u001b[0m\u001b[0;34m.\u001b[0m\u001b[0mget_indexer\u001b[0m\u001b[0;34m(\u001b[0m\u001b[0;34m[\u001b[0m\u001b[0mkey\u001b[0m\u001b[0;34m]\u001b[0m\u001b[0;34m,\u001b[0m \u001b[0mmethod\u001b[0m\u001b[0;34m=\u001b[0m\u001b[0mmethod\u001b[0m\u001b[0;34m,\u001b[0m \u001b[0mtolerance\u001b[0m\u001b[0;34m=\u001b[0m\u001b[0mtolerance\u001b[0m\u001b[0;34m)\u001b[0m\u001b[0;34m\u001b[0m\u001b[0m\n",
      "\u001b[0;32mpandas/_libs/index.pyx\u001b[0m in \u001b[0;36mpandas._libs.index.IndexEngine.get_loc\u001b[0;34m()\u001b[0m\n",
      "\u001b[0;32mpandas/_libs/index.pyx\u001b[0m in \u001b[0;36mpandas._libs.index.IndexEngine.get_loc\u001b[0;34m()\u001b[0m\n",
      "\u001b[0;32mpandas/_libs/hashtable_class_helper.pxi\u001b[0m in \u001b[0;36mpandas._libs.hashtable.PyObjectHashTable.get_item\u001b[0;34m()\u001b[0m\n",
      "\u001b[0;32mpandas/_libs/hashtable_class_helper.pxi\u001b[0m in \u001b[0;36mpandas._libs.hashtable.PyObjectHashTable.get_item\u001b[0;34m()\u001b[0m\n",
      "\u001b[0;31mKeyError\u001b[0m: 'team'"
     ]
    }
   ],
   "source": [
    "player_info_df = X_test['team']"
   ]
  },
  {
   "cell_type": "code",
   "execution_count": 112,
   "metadata": {},
   "outputs": [
    {
     "name": "stdout",
     "output_type": "stream",
     "text": [
      "                    round\n",
      "Jeff_Hendrick       1        55\n",
      "                    2        55\n",
      "                    3        55\n",
      "                    4        54\n",
      "                    5        54\n",
      "                    6        54\n",
      "                    7        54\n",
      "                    8        54\n",
      "                    9        54\n",
      "                    10       54\n",
      "                    11       54\n",
      "                    12       54\n",
      "                    13       54\n",
      "                    14       54\n",
      "                    15       54\n",
      "                    16       54\n",
      "                    17       54\n",
      "                    18       54\n",
      "                    19       54\n",
      "Leroy_Sane          1        85\n",
      "                    2        84\n",
      "                    3        83\n",
      "                    4        82\n",
      "                    5        82\n",
      "                    6        82\n",
      "                    7        83\n",
      "                    8        84\n",
      "                    9        85\n",
      "                    10       86\n",
      "                    11       88\n",
      "                             ..\n",
      "Eliaquim_Mangala    9        50\n",
      "                    10       50\n",
      "                    11       50\n",
      "                    12       50\n",
      "                    13       50\n",
      "                    14       50\n",
      "                    15       50\n",
      "                    16       50\n",
      "                    17       50\n",
      "                    18       50\n",
      "                    19       50\n",
      "Rajiv_van La Parra  1        50\n",
      "                    2        50\n",
      "                    3        50\n",
      "                    4        49\n",
      "                    5        49\n",
      "                    6        49\n",
      "                    7        49\n",
      "                    8        49\n",
      "                    9        49\n",
      "                    10       49\n",
      "                    11       48\n",
      "                    12       48\n",
      "                    13       48\n",
      "                    14       48\n",
      "                    15       48\n",
      "                    16       48\n",
      "                    17       48\n",
      "                    18       48\n",
      "                    19       48\n",
      "Name: value, Length: 10601, dtype: int64\n"
     ]
    }
   ],
   "source": [
    "print players_gw_1718_df['value']\n"
   ]
  },
  {
   "cell_type": "code",
   "execution_count": 99,
   "metadata": {},
   "outputs": [],
   "source": [
    "from pulp import *\n",
    "prob = pulp.LpProblem('FantasyTeam', pulp.LpMaximize)\n"
   ]
  },
  {
   "cell_type": "code",
   "execution_count": 162,
   "metadata": {},
   "outputs": [
    {
     "name": "stdout",
     "output_type": "stream",
     "text": [
      "                           0   1\n",
      "0               Oumar_Niasse  42\n",
      "1              Wilfried_Bony  41\n",
      "2                Joshua_King  40\n",
      "3           Daniel_Sturridge  40\n",
      "4              Alvaro_Morata  40\n",
      "5                 Harry_Kane  39\n",
      "6                Jamie_Vardy  38\n",
      "7                Tomer_Hemed  38\n",
      "8                 Andre_Gray  38\n",
      "9  Javier_Hernandez Balcazar  37\n"
     ]
    }
   ],
   "source": [
    "df2 = pd.DataFrame(gw_glk_players_df[6].values.tolist(), index= gw_glk_players_df[6].index)\n",
    "df1 = pd.DataFrame(gw_fwd_players_df[6].values.tolist(), index= gw_fwd_players_df[6].index)\n",
    "\n",
    "print df1.append(df2, ignore_index=True)\n",
    "#df = gw_glk_players_df[6].append(gw_fwd_players_df[6])\n",
    "# df = pd.merge(gw_glk_players_df[6], gw_fwd_players_df[6], how='outer')\n",
    "# print df"
   ]
  },
  {
   "cell_type": "code",
   "execution_count": 100,
   "metadata": {},
   "outputs": [
    {
     "name": "stdout",
     "output_type": "stream",
     "text": [
      "Total number of decision_variables: 16\n"
     ]
    }
   ],
   "source": [
    "\n",
    "def form_team_gw(i):\n",
    "    decision_variables = []\n",
    "    count = 0\n",
    "    for rownum, row in gw_glk_players_df.iterrows():\n",
    "        variable = str('x' + str(count))\n",
    "        count += 1\n",
    "        variable = pulp.LpVariable(str(variable), lowBound = 0, upBound = 1, cat= 'Integer') #make variables binary\n",
    "        decision_variables.append(variable)\n",
    "        \n",
    "        \n",
    "    for rownum, row in gw_fwd_players_df.iterrows():\n",
    "        variable = str('x' + str(count))\n",
    "        count += 1\n",
    "        variable = pulp.LpVariable(str(variable), lowBound = 0, upBound = 1, cat= 'Integer') #make variables binary\n",
    "        decision_variables.append(variable)\n",
    "        \n",
    "        \n",
    "    for rownum, row in gw_mid_players_df.iterrows():\n",
    "        variable = str('x' + str(count))\n",
    "        count += 1\n",
    "        variable = pulp.LpVariable(str(variable), lowBound = 0, upBound = 1, cat= 'Integer') #make variables binary\n",
    "        decision_variables.append(variable)\n",
    "        \n",
    "        \n",
    "    for rownum, row in gw_def_players_df.iterrows():\n",
    "        variable = str('x' + str(count))\n",
    "        count += 1\n",
    "        variable = pulp.LpVariable(str(variable), lowBound = 0, upBound = 1, cat= 'Integer') #make variables binary\n",
    "        decision_variables.append(variable)\n",
    "\n",
    "    print (\"Total number of decision_variables: \" + str(len(decision_variables)))\n",
    "\n",
    "    \n",
    "    total_points = \"\"\n",
    "    for rownum, row in player_cost_df.iterrows():\n",
    "        for i, player in enumerate(decision_variables):\n",
    "            if rownum == i:\n",
    "                formula = row['Cost']*player\n",
    "                total_points += formula\n",
    "\n",
    "    prob += total_points\n",
    "    print (\"Optimization function: \" + str(total_points))"
   ]
  },
  {
   "cell_type": "code",
   "execution_count": 101,
   "metadata": {},
   "outputs": [
    {
     "name": "stdout",
     "output_type": "stream",
     "text": [
      "Optimization function: 6*x0 + 7*x1 + 5*x10 + 6*x11 + 5*x12 + 6*x13 + 5*x14 + 4*x15 + 4*x2 + 5*x3 + 6*x4 + 7*x5 + 5*x6 + 6*x7 + 3*x8 + 4*x9\n"
     ]
    }
   ],
   "source": []
  },
  {
   "cell_type": "code",
   "execution_count": 102,
   "metadata": {},
   "outputs": [
    {
     "name": "stdout",
     "output_type": "stream",
     "text": [
      "FantasyTeam:\n",
      "MAXIMIZE\n",
      "6*x0 + 7*x1 + 5*x10 + 6*x11 + 5*x12 + 6*x13 + 5*x14 + 4*x15 + 4*x2 + 5*x3 + 6*x4 + 7*x5 + 5*x6 + 6*x7 + 3*x8 + 4*x9 + 0\n",
      "SUBJECT TO\n",
      "_C1: 6 x0 + 7 x1 + 5 x10 + 6 x11 + 5 x12 + 6 x13 + 5 x14 + 4 x15 + 4 x2 + 5 x3\n",
      " + 6 x4 + 7 x5 + 5 x6 + 6 x7 + 3 x8 + 4 x9 <= 30\n",
      "\n",
      "VARIABLES\n",
      "0 <= x0 <= 1 Integer\n",
      "0 <= x1 <= 1 Integer\n",
      "0 <= x10 <= 1 Integer\n",
      "0 <= x11 <= 1 Integer\n",
      "0 <= x12 <= 1 Integer\n",
      "0 <= x13 <= 1 Integer\n",
      "0 <= x14 <= 1 Integer\n",
      "0 <= x15 <= 1 Integer\n",
      "0 <= x2 <= 1 Integer\n",
      "0 <= x3 <= 1 Integer\n",
      "0 <= x4 <= 1 Integer\n",
      "0 <= x5 <= 1 Integer\n",
      "0 <= x6 <= 1 Integer\n",
      "0 <= x7 <= 1 Integer\n",
      "0 <= x8 <= 1 Integer\n",
      "0 <= x9 <= 1 Integer\n",
      "\n"
     ]
    }
   ],
   "source": [
    "avail_cash = 30\n",
    "total_paid = \"\"\n",
    "for rownum, row in player_cost_df.iterrows():\n",
    "    for i, player in enumerate(decision_variables):\n",
    "        if rownum == i:\n",
    "            formula = row['Cost']*player\n",
    "            total_paid += formula\n",
    "\n",
    "prob += (total_paid <= avail_cash)\n",
    "\n",
    "print prob"
   ]
  },
  {
   "cell_type": "code",
   "execution_count": 103,
   "metadata": {},
   "outputs": [
    {
     "name": "stdout",
     "output_type": "stream",
     "text": [
      "x14 + x15\n"
     ]
    }
   ],
   "source": [
    "avail_gk = 1\n",
    "total_gk = \"\"\n",
    "for rownum, row in player_cost_df.iterrows():\n",
    "    for i, player in enumerate(decision_variables):\n",
    "        if rownum == i:\n",
    "            if row['Position'] == 'GLK':\n",
    "                formula = 1*player\n",
    "                total_gk += formula\n",
    "prob += (total_gk == avail_gk)\n",
    "print(total_gk)"
   ]
  },
  {
   "cell_type": "code",
   "execution_count": 104,
   "metadata": {},
   "outputs": [
    {
     "name": "stdout",
     "output_type": "stream",
     "text": [
      "x14 + x15\n"
     ]
    }
   ],
   "source": [
    "print total_gk"
   ]
  },
  {
   "cell_type": "code",
   "execution_count": 105,
   "metadata": {},
   "outputs": [
    {
     "name": "stdout",
     "output_type": "stream",
     "text": [
      "x0 + x2 + x3 + x4 + x5 + x6 + x7\n"
     ]
    }
   ],
   "source": [
    "avail_def = 2\n",
    "total_def = \"\"\n",
    "for rownum, row in player_cost_df.iterrows():\n",
    "    for i, player in enumerate(decision_variables):\n",
    "        if rownum == i:\n",
    "            if row['Position'] == 'DEF':\n",
    "                formula = 1*player\n",
    "                total_def += formula\n",
    "prob += (total_def == avail_def)\n",
    "print((total_def))"
   ]
  },
  {
   "cell_type": "code",
   "execution_count": 91,
   "metadata": {},
   "outputs": [],
   "source": [
    "# avail_mid = 4\n",
    "# total_mid = \"\"\n",
    "# for rownum, row in pdata.iterrows():\n",
    "#     for i, player in enumerate(decision_variables):\n",
    "#         if rownum == i:\n",
    "#             if row['element_type_name'] == 'MID':\n",
    "#                 formula = 1*player\n",
    "#                 total_mid += formula\n",
    "# prob += (total_mid == avail_mid)\n",
    "# print((total_mid))"
   ]
  },
  {
   "cell_type": "code",
   "execution_count": 106,
   "metadata": {},
   "outputs": [
    {
     "name": "stdout",
     "output_type": "stream",
     "text": [
      "x1 + x10 + x11 + x12 + x13 + x8 + x9\n"
     ]
    }
   ],
   "source": [
    "avail_fwd = 2\n",
    "total_fwd = \"\"\n",
    "for rownum, row in player_cost_df.iterrows():\n",
    "    for i, player in enumerate(decision_variables):\n",
    "        if rownum == i:\n",
    "            if row['Position'] == 'FWD':\n",
    "                formula = 1*player\n",
    "                total_fwd += formula\n",
    "prob += (total_fwd == avail_fwd)\n",
    "print(total_fwd)"
   ]
  },
  {
   "cell_type": "code",
   "execution_count": 107,
   "metadata": {},
   "outputs": [
    {
     "name": "stdout",
     "output_type": "stream",
     "text": [
      "2\n"
     ]
    }
   ],
   "source": [
    "team_dict= {}\n",
    "for team in set(player_cost_df['Team']):\n",
    "    team_dict[str(team)]=dict()\n",
    "    team_dict[str(team)]['avail'] = 3\n",
    "    team_dict[str(team)]['total'] = \"\"\n",
    "    for rownum, row in player_cost_df.iterrows():\n",
    "        for i, player in enumerate(decision_variables):\n",
    "            if rownum == i:\n",
    "                if row['Team'] == team:\n",
    "                    formula = 1*player\n",
    "                    team_dict[str(team)]['total'] += formula\n",
    "\n",
    "    prob += (team_dict[str(team)]['total'] <= team_dict[str(team)]['avail'])\n",
    "print(len(team_dict))"
   ]
  },
  {
   "cell_type": "code",
   "execution_count": 108,
   "metadata": {},
   "outputs": [
    {
     "name": "stdout",
     "output_type": "stream",
     "text": [
      "FantasyTeam:\n",
      "MAXIMIZE\n",
      "6*x0 + 7*x1 + 5*x10 + 6*x11 + 5*x12 + 6*x13 + 5*x14 + 4*x15 + 4*x2 + 5*x3 + 6*x4 + 7*x5 + 5*x6 + 6*x7 + 3*x8 + 4*x9 + 0\n",
      "SUBJECT TO\n",
      "_C1: 6 x0 + 7 x1 + 5 x10 + 6 x11 + 5 x12 + 6 x13 + 5 x14 + 4 x15 + 4 x2 + 5 x3\n",
      " + 6 x4 + 7 x5 + 5 x6 + 6 x7 + 3 x8 + 4 x9 <= 30\n",
      "\n",
      "_C2: x14 + x15 = 1\n",
      "\n",
      "_C3: x0 + x2 + x3 + x4 + x5 + x6 + x7 = 2\n",
      "\n",
      "_C4: x1 + x10 + x11 + x12 + x13 + x8 + x9 = 2\n",
      "\n",
      "_C5: x1 + x11 + x12 + x13 + x15 + x4 + x5 <= 3\n",
      "\n",
      "_C6: x0 + x10 + x14 + x2 + x3 + x6 + x7 + x8 + x9 <= 3\n",
      "\n",
      "VARIABLES\n",
      "0 <= x0 <= 1 Integer\n",
      "0 <= x1 <= 1 Integer\n",
      "0 <= x10 <= 1 Integer\n",
      "0 <= x11 <= 1 Integer\n",
      "0 <= x12 <= 1 Integer\n",
      "0 <= x13 <= 1 Integer\n",
      "0 <= x14 <= 1 Integer\n",
      "0 <= x15 <= 1 Integer\n",
      "0 <= x2 <= 1 Integer\n",
      "0 <= x3 <= 1 Integer\n",
      "0 <= x4 <= 1 Integer\n",
      "0 <= x5 <= 1 Integer\n",
      "0 <= x6 <= 1 Integer\n",
      "0 <= x7 <= 1 Integer\n",
      "0 <= x8 <= 1 Integer\n",
      "0 <= x9 <= 1 Integer\n",
      "\n"
     ]
    }
   ],
   "source": [
    "print prob"
   ]
  },
  {
   "cell_type": "code",
   "execution_count": 109,
   "metadata": {},
   "outputs": [
    {
     "name": "stdout",
     "output_type": "stream",
     "text": [
      "('Status:', 'Optimal')\n",
      "('Optimal Solution to the problem: ', 30.0)\n",
      "Individual decision_variables: \n",
      "('x0', '=', 1.0)\n",
      "('x1', '=', 1.0)\n",
      "('x10', '=', 0.0)\n",
      "('x11', '=', 1.0)\n",
      "('x12', '=', 0.0)\n",
      "('x13', '=', 0.0)\n",
      "('x14', '=', 1.0)\n",
      "('x15', '=', 0.0)\n",
      "('x2', '=', 0.0)\n",
      "('x3', '=', 0.0)\n",
      "('x4', '=', 1.0)\n",
      "('x5', '=', 0.0)\n",
      "('x6', '=', 0.0)\n",
      "('x7', '=', 0.0)\n",
      "('x8', '=', 0.0)\n",
      "('x9', '=', 0.0)\n"
     ]
    }
   ],
   "source": [
    "prob.writeLP('FantasyTeam.lp')\n",
    "optimization_result = prob.solve()\n",
    "assert optimization_result == pulp.LpStatusOptimal\n",
    "print(\"Status:\", LpStatus[prob.status])\n",
    "print(\"Optimal Solution to the problem: \", value(prob.objective))\n",
    "print (\"Individual decision_variables: \")\n",
    "for v in prob.variables():\n",
    "    print(v.name, \"=\", v.varValue)"
   ]
  },
  {
   "cell_type": "code",
   "execution_count": 117,
   "metadata": {},
   "outputs": [
    {
     "name": "stdout",
     "output_type": "stream",
     "text": [
      "   Player Position  Cost Team  decision\n",
      "0       A      DEF     6  ARS       1.0\n",
      "1       B      FWD     7  MUN       1.0\n",
      "2       C      DEF     4  ARS       0.0\n",
      "3       D      DEF     5  ARS       0.0\n",
      "4       E      DEF     6  MUN       1.0\n",
      "5       F      DEF     7  MUN       0.0\n",
      "6       G      DEF     5  ARS       0.0\n",
      "7       H      DEF     6  ARS       0.0\n",
      "8       I      FWD     3  ARS       0.0\n",
      "9       J      FWD     4  ARS       0.0\n",
      "10      K      FWD     5  ARS       0.0\n",
      "11      L      FWD     6  MUN       1.0\n",
      "12      M      FWD     5  MUN       0.0\n",
      "13      N      FWD     6  MUN       0.0\n",
      "14      O      GLK     5  ARS       1.0\n",
      "15      P      GLK     4  MUN       0.0\n"
     ]
    },
    {
     "data": {
      "text/html": [
       "<div>\n",
       "<style scoped>\n",
       "    .dataframe tbody tr th:only-of-type {\n",
       "        vertical-align: middle;\n",
       "    }\n",
       "\n",
       "    .dataframe tbody tr th {\n",
       "        vertical-align: top;\n",
       "    }\n",
       "\n",
       "    .dataframe thead th {\n",
       "        text-align: right;\n",
       "    }\n",
       "</style>\n",
       "<table border=\"1\" class=\"dataframe\">\n",
       "  <thead>\n",
       "    <tr style=\"text-align: right;\">\n",
       "      <th></th>\n",
       "      <th>Player</th>\n",
       "      <th>Position</th>\n",
       "      <th>Cost</th>\n",
       "      <th>Team</th>\n",
       "      <th>decision</th>\n",
       "    </tr>\n",
       "  </thead>\n",
       "  <tbody>\n",
       "    <tr>\n",
       "      <th>1</th>\n",
       "      <td>B</td>\n",
       "      <td>FWD</td>\n",
       "      <td>7</td>\n",
       "      <td>MUN</td>\n",
       "      <td>1.0</td>\n",
       "    </tr>\n",
       "    <tr>\n",
       "      <th>0</th>\n",
       "      <td>A</td>\n",
       "      <td>DEF</td>\n",
       "      <td>6</td>\n",
       "      <td>ARS</td>\n",
       "      <td>1.0</td>\n",
       "    </tr>\n",
       "    <tr>\n",
       "      <th>4</th>\n",
       "      <td>E</td>\n",
       "      <td>DEF</td>\n",
       "      <td>6</td>\n",
       "      <td>MUN</td>\n",
       "      <td>1.0</td>\n",
       "    </tr>\n",
       "    <tr>\n",
       "      <th>11</th>\n",
       "      <td>L</td>\n",
       "      <td>FWD</td>\n",
       "      <td>6</td>\n",
       "      <td>MUN</td>\n",
       "      <td>1.0</td>\n",
       "    </tr>\n",
       "    <tr>\n",
       "      <th>14</th>\n",
       "      <td>O</td>\n",
       "      <td>GLK</td>\n",
       "      <td>5</td>\n",
       "      <td>ARS</td>\n",
       "      <td>1.0</td>\n",
       "    </tr>\n",
       "  </tbody>\n",
       "</table>\n",
       "</div>"
      ],
      "text/plain": [
       "   Player Position  Cost Team  decision\n",
       "1       B      FWD     7  MUN       1.0\n",
       "0       A      DEF     6  ARS       1.0\n",
       "4       E      DEF     6  MUN       1.0\n",
       "11      L      FWD     6  MUN       1.0\n",
       "14      O      GLK     5  ARS       1.0"
      ]
     },
     "execution_count": 117,
     "metadata": {},
     "output_type": "execute_result"
    }
   ],
   "source": [
    "import re\n",
    "\n",
    "variable_name = []\n",
    "variable_value = []\n",
    "\n",
    "for v in prob.variables():\n",
    "    variable_name.append(v.name)\n",
    "    variable_value.append(v.varValue)\n",
    "\n",
    "df = pd.DataFrame({'variable': variable_name, 'value': variable_value})\n",
    "for rownum, row in df.iterrows():\n",
    "    value = re.findall(r'(\\d+)', row['variable'])\n",
    "    df.loc[rownum, 'variable'] = int(value[0])\n",
    "\n",
    "df = df.sort_values(by='variable')\n",
    "\n",
    "#append results\n",
    "for rownum, row in player_cost_df.iterrows():\n",
    "    for results_rownum, results_row in df.iterrows():\n",
    "        if rownum == results_row['variable']:\n",
    "            player_cost_df.loc[rownum, 'decision'] = results_row['value']\n",
    "\n",
    "            \n",
    "print player_cost_df\n",
    "# player_cost_df[player_cost_df['decision']==1].now_cost.sum() # Returns 830\n",
    "# player_cost_df[player_cost_df['decision']==1].total_points.sum() # Returns 2010.8606251232461\n",
    "player_cost_df[player_cost_df['decision']==1].sort_values('Cost', ascending=False).head(5)"
   ]
  },
  {
   "cell_type": "code",
   "execution_count": null,
   "metadata": {},
   "outputs": [],
   "source": []
  }
 ],
 "metadata": {
  "kernelspec": {
   "display_name": "Python 3",
   "language": "python",
   "name": "python3"
  },
  "language_info": {
   "codemirror_mode": {
    "name": "ipython",
    "version": 3
   },
   "file_extension": ".py",
   "mimetype": "text/x-python",
   "name": "python",
   "nbconvert_exporter": "python",
   "pygments_lexer": "ipython3",
   "version": "3.6.5"
  }
 },
 "nbformat": 4,
 "nbformat_minor": 2
}
